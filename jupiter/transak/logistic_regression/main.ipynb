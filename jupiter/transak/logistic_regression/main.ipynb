{
 "cells": [
  {
   "cell_type": "markdown",
   "metadata": {},
   "source": [
    "Imports"
   ]
  },
  {
   "cell_type": "code",
   "execution_count": 83,
   "metadata": {
    "tags": [
     "Das ist ein Tag"
    ]
   },
   "outputs": [],
   "source": [
    "__author__ = \"Artur Fejklowicz\"\n",
    "\n",
    "# Sources:\n",
    "# - https://medium.com/@ashins1997/text-classification-dfe370bf7044\n",
    "# - https://www.kaggle.com/code/shahkan/text-classification-using-logistic-regression\n",
    "# - https://www.kaggle.com/code/satishgunjal/multiclass-logistic-regression-using-sklearn\n",
    "# - https://medium.com/@cmukesh8688/tf-idf-vectorizer-scikit-learn-dbc0244a911a\n",
    "# - https://scikit-learn.org/stable/modules/generated/sklearn.feature_extraction.text.TfidfVectorizer.html\n",
    "\n",
    "import pandas as pd\n",
    "import numpy as np\n",
    "from sklearn.feature_extraction.text import TfidfVectorizer\n",
    "from sklearn.feature_selection import SelectKBest, chi2\n",
    "from sklearn.metrics import classification_report, confusion_matrix\n",
    "from sklearn.model_selection import cross_val_score, cross_validate\n",
    "from sklearn.pipeline import Pipeline\n",
    "from sklearn.preprocessing import LabelEncoder\n",
    "from sklearn.linear_model import LogisticRegression\n",
    "from sklearn.model_selection import train_test_split\n",
    "from sklearn import metrics\n",
    "from google.cloud import bigquery\n",
    "import matplotlib.pyplot as plt\n",
    "import nltk.stem.snowball\n",
    "from sklearn.metrics import ConfusionMatrixDisplay\n",
    "import nltk\n",
    "from nltk.corpus import stopwords\n",
    "#import seaborn as sns\n",
    "import urllib.request\n",
    "\n"
   ]
  },
  {
   "cell_type": "markdown",
   "metadata": {},
   "source": [
    "Retrive data from BigQuery"
   ]
  },
  {
   "cell_type": "code",
   "execution_count": 86,
   "metadata": {},
   "outputs": [],
   "source": [
    "client = bigquery.Client(project=\"af-finanzen\")\n",
    "query = (\"\"\"SELECT\n",
    "  description\n",
    "  -- , Konto\n",
    "  , CASE \n",
    "      WHEN Konto in (\"PK Auto\", \"PK Maja\", \"PK Rest\", \"SK Haushalt\", \"Top-Up\") THEN \"Others\"\n",
    "      ELSE Konto\n",
    "    END as Konto\n",
    "FROM banks.revolut_mapping_internal\n",
    "\"\"\")\n",
    "df = client.query(query).to_dataframe()  # API request\n"
   ]
  },
  {
   "cell_type": "markdown",
   "metadata": {},
   "source": [
    "## Data analysis"
   ]
  },
  {
   "cell_type": "markdown",
   "metadata": {},
   "source": [
    "Basic"
   ]
  },
  {
   "cell_type": "code",
   "execution_count": null,
   "metadata": {},
   "outputs": [
    {
     "name": "stdout",
     "output_type": "stream",
     "text": [
      "Konto\n",
      "Others        66\n",
      "PK Artur      75\n",
      "PK Leben     105\n",
      "PK Reisen     70\n",
      "SK Ferien     86\n",
      "Name: Konto, dtype: int64\n"
     ]
    },
    {
     "data": {
      "image/png": "[encoded data removed]",
      "text/plain": [
       "<Figure size 640x480 with 1 Axes>"
      ]
     },
     "metadata": {},
     "output_type": "display_data"
    },
    {
     "data": {
      "text/html": [
       "<div>\n",
       "<style scoped>\n",
       "    .dataframe tbody tr th:only-of-type {\n",
       "        vertical-align: middle;\n",
       "    }\n",
       "\n",
       "    .dataframe tbody tr th {\n",
       "        vertical-align: top;\n",
       "    }\n",
       "\n",
       "    .dataframe thead th {\n",
       "        text-align: right;\n",
       "    }\n",
       "</style>\n",
       "<table border=\"1\" class=\"dataframe\">\n",
       "  <thead>\n",
       "    <tr style=\"text-align: right;\">\n",
       "      <th></th>\n",
       "      <th>description</th>\n",
       "      <th>Konto</th>\n",
       "    </tr>\n",
       "  </thead>\n",
       "  <tbody>\n",
       "    <tr>\n",
       "      <th>0</th>\n",
       "      <td>Gama-M</td>\n",
       "      <td>Others</td>\n",
       "    </tr>\n",
       "    <tr>\n",
       "      <th>1</th>\n",
       "      <td>M P Majorca Pearls</td>\n",
       "      <td>SK Ferien</td>\n",
       "    </tr>\n",
       "    <tr>\n",
       "      <th>2</th>\n",
       "      <td>MGM. Pakowanie prezentów</td>\n",
       "      <td>PK Artur</td>\n",
       "    </tr>\n",
       "    <tr>\n",
       "      <th>3</th>\n",
       "      <td>Fikołki</td>\n",
       "      <td>Others</td>\n",
       "    </tr>\n",
       "    <tr>\n",
       "      <th>4</th>\n",
       "      <td>Google Bubadu</td>\n",
       "      <td>PK Artur</td>\n",
       "    </tr>\n",
       "    <tr>\n",
       "      <th>5</th>\n",
       "      <td>Funidelia</td>\n",
       "      <td>PK Artur</td>\n",
       "    </tr>\n",
       "    <tr>\n",
       "      <th>6</th>\n",
       "      <td>Mini Melts Spolka Z O.o</td>\n",
       "      <td>Others</td>\n",
       "    </tr>\n",
       "    <tr>\n",
       "      <th>7</th>\n",
       "      <td>Crazy Sowka Brozek And Tr</td>\n",
       "      <td>Others</td>\n",
       "    </tr>\n",
       "    <tr>\n",
       "      <th>8</th>\n",
       "      <td>Sala Zabaw Fikolki G 01</td>\n",
       "      <td>Others</td>\n",
       "    </tr>\n",
       "    <tr>\n",
       "      <th>9</th>\n",
       "      <td>Smyk</td>\n",
       "      <td>Others</td>\n",
       "    </tr>\n",
       "    <tr>\n",
       "      <th>392</th>\n",
       "      <td>ZARA</td>\n",
       "      <td>PK Artur</td>\n",
       "    </tr>\n",
       "    <tr>\n",
       "      <th>393</th>\n",
       "      <td>MediaMarkt</td>\n",
       "      <td>PK Leben</td>\n",
       "    </tr>\n",
       "    <tr>\n",
       "      <th>394</th>\n",
       "      <td>Firma Handlowo Pr86423</td>\n",
       "      <td>Others</td>\n",
       "    </tr>\n",
       "    <tr>\n",
       "      <th>395</th>\n",
       "      <td>Tango Argentino</td>\n",
       "      <td>Others</td>\n",
       "    </tr>\n",
       "    <tr>\n",
       "      <th>396</th>\n",
       "      <td>Castorama</td>\n",
       "      <td>Others</td>\n",
       "    </tr>\n",
       "    <tr>\n",
       "      <th>397</th>\n",
       "      <td>LoveAir.pl</td>\n",
       "      <td>Others</td>\n",
       "    </tr>\n",
       "    <tr>\n",
       "      <th>398</th>\n",
       "      <td>RTV EURO AGD</td>\n",
       "      <td>Others</td>\n",
       "    </tr>\n",
       "    <tr>\n",
       "      <th>399</th>\n",
       "      <td>LiveCareer</td>\n",
       "      <td>PK Leben</td>\n",
       "    </tr>\n",
       "    <tr>\n",
       "      <th>400</th>\n",
       "      <td>Waterdroptm</td>\n",
       "      <td>PK Leben</td>\n",
       "    </tr>\n",
       "    <tr>\n",
       "      <th>401</th>\n",
       "      <td>dm drogerie</td>\n",
       "      <td>PK Leben</td>\n",
       "    </tr>\n",
       "  </tbody>\n",
       "</table>\n",
       "</div>"
      ],
      "text/plain": [
       "                   description      Konto\n",
       "0                       Gama-M     Others\n",
       "1           M P Majorca Pearls  SK Ferien\n",
       "2     MGM. Pakowanie prezentów   PK Artur\n",
       "3                      Fikołki     Others\n",
       "4                Google Bubadu   PK Artur\n",
       "5                    Funidelia   PK Artur\n",
       "6      Mini Melts Spolka Z O.o     Others\n",
       "7    Crazy Sowka Brozek And Tr     Others\n",
       "8      Sala Zabaw Fikolki G 01     Others\n",
       "9                         Smyk     Others\n",
       "392                       ZARA   PK Artur\n",
       "393                 MediaMarkt   PK Leben\n",
       "394     Firma Handlowo Pr86423     Others\n",
       "395            Tango Argentino     Others\n",
       "396                  Castorama     Others\n",
       "397                 LoveAir.pl     Others\n",
       "398               RTV EURO AGD     Others\n",
       "399                 LiveCareer   PK Leben\n",
       "400                Waterdroptm   PK Leben\n",
       "401                dm drogerie   PK Leben"
      ]
     },
     "execution_count": 80,
     "metadata": {},
     "output_type": "execute_result"
    }
   ],
   "source": [
    "print(df.groupby(\"Konto\").Konto.count())\n",
    "df.groupby(\"Konto\").Konto.count().plot(kind=\"bar\", ylim=0, )\n",
    "plt.title(\"Rozklad klas\")\n",
    "plt.show()\n",
    "\n",
    "# df[\"Konto\"].astype(\"category\").cat.codes.plot(kind=\"hist\", color=\"green\", width=0.8)\n",
    "# plt.show()\n",
    "# df.info()\n",
    "\n",
    "pd.concat( [df.head(10), df.tail(10)] )"
   ]
  },
  {
   "cell_type": "markdown",
   "metadata": {},
   "source": [
    "Histogram of words"
   ]
  },
  {
   "cell_type": "code",
   "execution_count": 122,
   "metadata": {},
   "outputs": [
    {
     "data": {
      "image/png": "[encoded data removed]",
      "text/plain": [
       "<Figure size 640x480 with 1 Axes>"
      ]
     },
     "metadata": {},
     "output_type": "display_data"
    },
    {
     "name": "stdout",
     "output_type": "stream",
     "text": [
      "996 766\n"
     ]
    },
    {
     "data": {
      "image/png": "[encoded data removed]",
      "text/plain": [
       "<Figure size 640x480 with 1 Axes>"
      ]
     },
     "metadata": {},
     "output_type": "display_data"
    },
    {
     "data": {
      "text/plain": [
       "description    23\n",
       "Konto          23\n",
       "dtype: int64"
      ]
     },
     "execution_count": 122,
     "metadata": {},
     "output_type": "execute_result"
    }
   ],
   "source": [
    "hist_words_mapping = {}\n",
    "hist_words = []\n",
    "\n",
    "for document in df.description.to_list():\n",
    "    words = document.split(\" \")\n",
    "    for word in words:\n",
    "        if word not in hist_words_mapping.keys():\n",
    "            hist_words_mapping[word] = len(hist_words_mapping)\n",
    "\n",
    "    hist_words = hist_words + list(map(lambda w: hist_words_mapping[w], words))\n",
    "\n",
    "plt.hist(hist_words, width=1, bins=766)\n",
    "plt.show()\n",
    "\n",
    "print(len(hist_words), len(hist_words_mapping))\n",
    "\n",
    "\n",
    "words = [line.split() for line in df.description]\n",
    "from collections import Counter\n",
    "from itertools import chain\n",
    "counter = Counter(chain.from_iterable(words))\n",
    "#print(counter)\n",
    "\n",
    "author_names = counter.keys()\n",
    "author_counts = counter.values()\n",
    "\n",
    "indexes = np.arange(len(author_names))\n",
    "width = 0.7\n",
    "plt.bar(indexes, author_counts, width)\n",
    "plt.xticks(indexes + width * 0.5, author_names)\n",
    "plt.show()\n",
    "\n",
    "df[df.description.str.contains(\"Manual\")].count()\n"
   ]
  },
  {
   "cell_type": "markdown",
   "metadata": {},
   "source": [
    "Seaborn"
   ]
  },
  {
   "cell_type": "code",
   "execution_count": null,
   "metadata": {},
   "outputs": [],
   "source": [
    "# sns.set_theme()\n",
    "# #df.groupby(\"Konto\").Konto.count()\n",
    "# sns.countplot(data=df, x=\"Konto\")"
   ]
  },
  {
   "cell_type": "markdown",
   "metadata": {},
   "source": [
    "Stopwords"
   ]
  },
  {
   "cell_type": "code",
   "execution_count": null,
   "metadata": {},
   "outputs": [],
   "source": [
    "stops_eng = set(stopwords.words('english'))\n",
    "stops_ger = set(stopwords.words('german'))\n",
    "stops_ita = set(stopwords.words('italian'))\n",
    "stops_spa = set(stopwords.words('spanish'))\n",
    "stops_fra = set(stopwords.words('french'))\n",
    "# stops_pol = set(load_lines_from_file(\"../../python/logistic_regression_classification/polish.txt\"))\n",
    "link = \"https://raw.githubusercontent.com/bieli/stopwords/master/polish.stopwords.txt\"\n",
    "lines=[]\n",
    "responce = urllib.request.urlopen(link)\n",
    "stops_pol = responce.read().decode().split(f\"\\n\")\n",
    "\n",
    "stops = list(stops_eng.union(stops_ger).union(stops_ita).union(stops_spa).union(stops_fra).union(stops_pol))\n",
    "# if stops_pol:\n",
    "#     stops = stops.union(stops_pol)\n",
    "# stops = list(stops)\n",
    "\n",
    "# stops=[]\n",
    "\n"
   ]
  },
  {
   "cell_type": "markdown",
   "metadata": {},
   "source": [
    "Vectorization"
   ]
  },
  {
   "cell_type": "code",
   "execution_count": null,
   "metadata": {},
   "outputs": [
    {
     "name": "stdout",
     "output_type": "stream",
     "text": [
      "final_features.shape:\n",
      "(402, 683)\n"
     ]
    }
   ],
   "source": [
    "vectorizer = TfidfVectorizer(\n",
    "    #min_df=0.0001,\n",
    "    stop_words=stops,\n",
    "    #max_features=1000,\n",
    "    sublinear_tf=True, \n",
    "    #norm='l2', \n",
    "    ngram_range=(1, 1))\n",
    "final_features = vectorizer.fit_transform(df['description']).toarray()\n",
    "print(f\"final_features.shape:\\n{final_features.shape}\")\n",
    "#np.set_printoptions(threshold=np.inf)\n",
    "#print(f\"final_featurese:\\n{final_features}\")\n",
    "# print(f\"vectorizer.get_feature_names_out() {vectorizer.get_feature_names_out()}\")\n"
   ]
  },
  {
   "cell_type": "markdown",
   "metadata": {},
   "source": [
    "Train Test Split"
   ]
  },
  {
   "cell_type": "code",
   "execution_count": null,
   "metadata": {},
   "outputs": [],
   "source": [
    "X = df['description']\n",
    "Y = df['Konto']\n",
    "# print(f\"Y {Y}\")\n",
    "\n",
    "X_train, X_test, y_train, y_test = train_test_split(X, Y, test_size=0.25)\n"
   ]
  },
  {
   "cell_type": "markdown",
   "metadata": {},
   "source": [
    "Build and train model"
   ]
  },
  {
   "cell_type": "code",
   "execution_count": null,
   "metadata": {},
   "outputs": [],
   "source": [
    "\n",
    "\n",
    "pipeline = Pipeline([('vect', vectorizer),\n",
    "                     #('chi',  SelectKBest(chi2, k=\"all\")),\n",
    "                     ('clf',  LogisticRegression(multi_class='ovr', solver='liblinear', random_state=0))])\n",
    "\n",
    "\n",
    "model = pipeline.fit(X_train, y_train)\n"
   ]
  },
  {
   "cell_type": "markdown",
   "metadata": {},
   "source": [
    "Test and print report"
   ]
  },
  {
   "cell_type": "code",
   "execution_count": null,
   "metadata": {},
   "outputs": [
    {
     "name": "stdout",
     "output_type": "stream",
     "text": [
      "              precision    recall  f1-score   support\n",
      "\n",
      "      Others       0.62      0.28      0.38        18\n",
      "    PK Artur       0.80      0.20      0.32        20\n",
      "    PK Leben       0.27      0.95      0.42        22\n",
      "   PK Reisen       1.00      0.25      0.40        20\n",
      "   SK Ferien       1.00      0.29      0.44        21\n",
      "\n",
      "    accuracy                           0.41       101\n",
      "   macro avg       0.74      0.39      0.39       101\n",
      "weighted avg       0.74      0.41      0.40       101\n",
      "\n"
     ]
    }
   ],
   "source": [
    "ytest = np.array(y_test)\n",
    "\n",
    "#c_names = pipeline.feature_names_in_\n",
    "#print(f\"c_names: {c_names}\")\n",
    "#print(f\"get_feature_names_out: {model.feature_names_in_}\")\n",
    "\n",
    "classification_report = classification_report(ytest, model.predict(X_test))\n",
    "\n",
    "print(classification_report)"
   ]
  },
  {
   "cell_type": "markdown",
   "metadata": {},
   "source": [
    "Confusion Matrix Training Data"
   ]
  },
  {
   "cell_type": "code",
   "execution_count": null,
   "metadata": {},
   "outputs": [
    {
     "data": {
      "image/png": "[encoded data removed]",
      "text/plain": [
       "<Figure size 640x480 with 2 Axes>"
      ]
     },
     "metadata": {},
     "output_type": "display_data"
    }
   ],
   "source": [
    "confusion_matrix_training = confusion_matrix(np.array(y_train), model.predict(X_train))\n",
    "# print(confusion_matrix_training)\n",
    "# disp = ConfusionMatrixDisplay(confusion_matrix=confusion_matrix_training, display_labels=n_classes)\n",
    "disp = ConfusionMatrixDisplay(confusion_matrix=confusion_matrix_training)\n",
    "disp.plot()\n",
    "plt.show()"
   ]
  },
  {
   "cell_type": "markdown",
   "metadata": {},
   "source": [
    "Confusion Matrix Testing Data"
   ]
  },
  {
   "cell_type": "code",
   "execution_count": null,
   "metadata": {},
   "outputs": [
    {
     "data": {
      "image/png": "[encoded data removed]",
      "text/plain": [
       "<Figure size 640x480 with 2 Axes>"
      ]
     },
     "metadata": {},
     "output_type": "display_data"
    }
   ],
   "source": [
    "confusion_matrix_testing = confusion_matrix(ytest, model.predict(X_test))\n",
    "disp = ConfusionMatrixDisplay(confusion_matrix=confusion_matrix_testing)\n",
    "disp.plot()\n",
    "plt.show()"
   ]
  }
 ],
 "metadata": {
  "kernelspec": {
   "display_name": "af-finanzen",
   "language": "python",
   "name": "python3"
  },
  "language_info": {
   "codemirror_mode": {
    "name": "ipython",
    "version": 3
   },
   "file_extension": ".py",
   "mimetype": "text/x-python",
   "name": "python",
   "nbconvert_exporter": "python",
   "pygments_lexer": "ipython3",
   "version": "3.12.0"
  }
 },
 "nbformat": 4,
 "nbformat_minor": 2
}
