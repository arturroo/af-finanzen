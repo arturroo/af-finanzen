{
 "cells": [
  {
   "cell_type": "markdown",
   "id": "983af335",
   "metadata": {},
   "source": [
    "# Transak iteration 1\n",
    "Feature Engineering with TensorFlow using old API tf.feature_column\n",
    "\n",
    "## I used knowledge from those courses \n",
    "- GCP Proffesional Machine Learning Engineer course 4 Feature Engineering, modules 3,5,6,7,8,9\n",
    "- Machine Learning Mastery course from Adam Dobrakowski\n",
    "\n",
    "## Assumptions\n",
    "1. Floats change into categorical bins (MLE 4.3.1) - quntiles with same number of examples per bin? - perhaps in next iteration with Keras or tf.Transform. Now I need fast next level from benchmark model.\n",
    "2. Cyclic transformation of dates should allow better identify Abos\n",
    "3. Environment has tensorflow==2.12.1, because this supports old tf.feature_column API and Keras DenseFeatures layer, which I need to learn for the exam."
   ]
  },
  {
   "cell_type": "markdown",
   "id": "7c9c9431",
   "metadata": {},
   "source": [
    "# Development"
   ]
  },
  {
   "cell_type": "markdown",
   "id": "4a14462f",
   "metadata": {},
   "source": [
    "## Imports"
   ]
  },
  {
   "cell_type": "code",
   "execution_count": 1,
   "id": "730fa8ad",
   "metadata": {},
   "outputs": [
    {
     "name": "stdout",
     "output_type": "stream",
     "text": [
      "BigQuery client library version: 3.9.0\n",
      "Tensorflow version: 2.12.1\n",
      "Pandas version: 1.5.3\n",
      "Keras version: 2.12.0\n",
      "Matplotlib version: 3.7.1\n"
     ]
    }
   ],
   "source": [
    "import pandas as pd\n",
    "import numpy as np\n",
    "from google.cloud import bigquery\n",
    "import tensorflow as tf\n",
    "from tensorflow.keras import layers\n",
    "from tensorflow import feature_column as fc\n",
    "from tensorflow.keras.callbacks import EarlyStopping, ModelCheckpoint\n",
    "import matplotlib\n",
    "import matplotlib.pyplot as plt\n",
    "# from sklearn.metrics import (accuracy_score, precision_score, recall_score, f1_score,\n",
    "#                              classification_report, confusion_matrix)\n",
    "from sklearn.metrics import classification_report, confusion_matrix\n",
    "import seaborn as sns\n",
    "\n",
    "print(f\"BigQuery client library version: {bigquery.__version__}\")\n",
    "print(f\"Tensorflow version: {tf.__version__}\")\n",
    "print(f\"Pandas version: {pd.__version__}\")\n",
    "print(f\"Keras version: {tf.keras.__version__}\")\n",
    "print(f\"Matplotlib version: {matplotlib.__version__}\")\n"
   ]
  },
  {
   "cell_type": "markdown",
   "id": "64c1ed39",
   "metadata": {},
   "source": [
    "## Data load"
   ]
  },
  {
   "cell_type": "code",
   "execution_count": 2,
   "id": "3654d546",
   "metadata": {},
   "outputs": [],
   "source": [
    "bq = bigquery.Client(project=\"af-finanzen\")\n",
    "query = \"\"\"\n",
    "  WITH EDA AS (\n",
    "    SELECT\n",
    "        tid\n",
    "      , type\n",
    "      --AF20250604 I need Cyclic because of minmax normalization , UNIX_SECONDS(started) started -- TF works with numbers or strings, not with timestamps\n",
    "      --AF20250604 I need Cyclic because of minmax normalization , UNIX_SECONDS(first_started) first_started -- this should be part of feature engineering or ingestion ale update?\n",
    "      --AF20250604 I need Cyclic because of minmax normalization   -- if this is here, then it is easier do train test eval split because here it is done on all data,\n",
    "      --AF20250604 I need Cyclic because of minmax normalization   -- an not on train or test or validation separately where it would be different. Same for min max and so on.. \n",
    "      , started\n",
    "      , first_started\n",
    "      , LOWER(description) description -- i1_eda_conclusion_2\n",
    "      , amount\n",
    "      --, fee\n",
    "      , currency\n",
    "      --, state\n",
    "      --, account\n",
    "      , CASE\n",
    "          WHEN i1_true_label = 'PK Prezenty' THEN 'PK Rest'\n",
    "          WHEN i1_true_label = 'PK Auto' THEN 'PK Rest'\n",
    "          --WHEN i1_true_label = 'Exchange' THEN 'PK Rest'\n",
    "          --WHEN i1_true_label = 'SK Haushalt' THEN 'PK Rest'\n",
    "          --WHEN i1_true_label = 'PK Medic' THEN 'PK Rest'\n",
    "          --WHEN i1_true_label = 'PK Abo' THEN 'PK Rest'\n",
    "          --WHEN i1_true_label = 'PK Maja' THEN 'PK Rest'\n",
    "          --WHEN i1_true_label = 'eShop' THEN 'PK Rest'\n",
    "          --WHEN i1_true_label = 'SK Ferien' THEN 'PK Rest'\n",
    "          --WHEN i1_true_label = 'PK Artur' THEN 'PK Rest'\n",
    "          --WHEN i1_true_label = 'PK Reisen' THEN 'PK Rest'\n",
    "          --WHEN i1_true_label = 'PK Leben' THEN 'PK Rest'\n",
    "          --WHEN i1_true_label = 'PK Kasia' THEN 'PK Rest'\n",
    "          WHEN i1_true_label = 'Apt' THEN 'PK Kasia'\n",
    "          --WHEN i1_true_label = 'Apt' THEN 'PK Rest'\n",
    "          ELSE i1_true_label\n",
    "        END AS i1_true_label\n",
    "    FROM `af-finanzen.monatsabschluss.revolut_abrechnung`\n",
    "    WHERE\n",
    "      type NOT IN (\"FEE\", \"ATM\") -- i1_eda_conclusion_1\n",
    "      AND ABS(amount) < 300\n",
    "    ORDER BY started\n",
    "  ),\n",
    "  LABEL_INT AS (\n",
    "    SELECT\n",
    "      *\n",
    "      , DENSE_RANK() OVER(ORDER BY i1_true_label) - 1 AS i1_true_label_id\n",
    "    FROM EDA\n",
    "  ),\n",
    "  SPLIT_SET AS (\n",
    "    SELECT\n",
    "        tid\n",
    "      , i1_true_label\n",
    "      , CASE\n",
    "          WHEN ABS(MOD(tid, 10)) <= 7 THEN 'train'\n",
    "          WHEN ABS(MOD(tid, 10)) = 8 THEN 'validation'\n",
    "          WHEN ABS(MOD(tid, 10)) = 9 THEN 'test'\n",
    "          -- WHEN ABS(MOD(tid, 100)) < 60 THEN 'train'\n",
    "          -- WHEN ABS(MOD(tid, 100)) BETWEEN 60 AND 80 THEN 'validation'\n",
    "          -- WHEN ABS(MOD(tid, 100)) BETWEEN 80 AND 100 THEN 'test'\n",
    "          ELSE \"unknown\"\n",
    "        END AS split_set\n",
    "    FROM EDA\n",
    "    GROUP BY\n",
    "      i1_true_label, tid\n",
    "  )\n",
    "  SELECT\n",
    "    LABEL_INT.* EXCEPT(tid)\n",
    "    , SPLIT_SET.split_set\n",
    "  FROM LABEL_INT\n",
    "  JOIN SPLIT_SET\n",
    "  ON LABEL_INT.tid = SPLIT_SET.tid\n",
    "\"\"\"\n",
    "df = bq.query(query).to_dataframe()"
   ]
  },
  {
   "cell_type": "code",
   "execution_count": 3,
   "id": "844303af",
   "metadata": {},
   "outputs": [
    {
     "data": {
      "image/png": "[encoded data removed]",
      "text/plain": [
       "<Figure size 640x480 with 1 Axes>"
      ]
     },
     "metadata": {},
     "output_type": "display_data"
    }
   ],
   "source": [
    "df.i1_true_label.value_counts().plot(kind=\"bar\", width=1, color=\"skyblue\")\n",
    "plt.ylabel(\"Count\")\n",
    "plt.xlabel(\"Label\")\n",
    "plt.title(\"Classes distribution - sorted\")\n",
    "plt.xticks(rotation=45, ha=\"right\")\n",
    "plt.tight_layout()\n",
    "plt.show()"
   ]
  },
  {
   "cell_type": "markdown",
   "id": "2ee820b8",
   "metadata": {},
   "source": [
    "Reverse mapping of label names and ids"
   ]
  },
  {
   "cell_type": "code",
   "execution_count": 4,
   "id": "ecf4498c",
   "metadata": {},
   "outputs": [],
   "source": [
    "rev_mapping_df = df.pop(\"i1_true_label\")"
   ]
  },
  {
   "cell_type": "code",
   "execution_count": 5,
   "id": "2ca3e7f6",
   "metadata": {},
   "outputs": [
    {
     "data": {
      "text/html": [
       "<div>\n",
       "<style scoped>\n",
       "    .dataframe tbody tr th:only-of-type {\n",
       "        vertical-align: middle;\n",
       "    }\n",
       "\n",
       "    .dataframe tbody tr th {\n",
       "        vertical-align: top;\n",
       "    }\n",
       "\n",
       "    .dataframe thead th {\n",
       "        text-align: right;\n",
       "    }\n",
       "</style>\n",
       "<table border=\"1\" class=\"dataframe\">\n",
       "  <thead>\n",
       "    <tr style=\"text-align: right;\">\n",
       "      <th></th>\n",
       "      <th>i1_true_label</th>\n",
       "      <th>i1_true_label_id</th>\n",
       "    </tr>\n",
       "  </thead>\n",
       "  <tbody>\n",
       "    <tr>\n",
       "      <th>0</th>\n",
       "      <td>Exchange</td>\n",
       "      <td>0</td>\n",
       "    </tr>\n",
       "    <tr>\n",
       "      <th>1</th>\n",
       "      <td>PK Abo</td>\n",
       "      <td>1</td>\n",
       "    </tr>\n",
       "    <tr>\n",
       "      <th>2</th>\n",
       "      <td>PK Artur</td>\n",
       "      <td>2</td>\n",
       "    </tr>\n",
       "    <tr>\n",
       "      <th>3</th>\n",
       "      <td>PK Kasia</td>\n",
       "      <td>3</td>\n",
       "    </tr>\n",
       "    <tr>\n",
       "      <th>4</th>\n",
       "      <td>PK Leben</td>\n",
       "      <td>4</td>\n",
       "    </tr>\n",
       "    <tr>\n",
       "      <th>5</th>\n",
       "      <td>PK Maja</td>\n",
       "      <td>5</td>\n",
       "    </tr>\n",
       "    <tr>\n",
       "      <th>6</th>\n",
       "      <td>PK Medic</td>\n",
       "      <td>6</td>\n",
       "    </tr>\n",
       "    <tr>\n",
       "      <th>7</th>\n",
       "      <td>PK Reisen</td>\n",
       "      <td>7</td>\n",
       "    </tr>\n",
       "    <tr>\n",
       "      <th>8</th>\n",
       "      <td>PK Rest</td>\n",
       "      <td>8</td>\n",
       "    </tr>\n",
       "    <tr>\n",
       "      <th>9</th>\n",
       "      <td>SK Ferien</td>\n",
       "      <td>9</td>\n",
       "    </tr>\n",
       "    <tr>\n",
       "      <th>10</th>\n",
       "      <td>SK Haushalt</td>\n",
       "      <td>10</td>\n",
       "    </tr>\n",
       "    <tr>\n",
       "      <th>11</th>\n",
       "      <td>Top-Up</td>\n",
       "      <td>11</td>\n",
       "    </tr>\n",
       "    <tr>\n",
       "      <th>12</th>\n",
       "      <td>eShop</td>\n",
       "      <td>12</td>\n",
       "    </tr>\n",
       "  </tbody>\n",
       "</table>\n",
       "</div>"
      ],
      "text/plain": [
       "   i1_true_label  i1_true_label_id\n",
       "0       Exchange                 0\n",
       "1         PK Abo                 1\n",
       "2       PK Artur                 2\n",
       "3       PK Kasia                 3\n",
       "4       PK Leben                 4\n",
       "5        PK Maja                 5\n",
       "6       PK Medic                 6\n",
       "7      PK Reisen                 7\n",
       "8        PK Rest                 8\n",
       "9      SK Ferien                 9\n",
       "10   SK Haushalt                10\n",
       "11        Top-Up                11\n",
       "12         eShop                12"
      ]
     },
     "execution_count": 5,
     "metadata": {},
     "output_type": "execute_result"
    }
   ],
   "source": [
    "#df.drop(columns=['i1_true_label'], inplace=True)\n",
    "rev_mapping_df = pd.concat([rev_mapping_df, df.i1_true_label_id], axis=1)\n",
    "rev_mapping_df = (rev_mapping_df\n",
    "                  .drop_duplicates()\n",
    "                  .sort_values(by='i1_true_label_id')\n",
    "                  .reset_index(drop=True))\n",
    "\n",
    "class_names=rev_mapping_df.i1_true_label.tolist()\n",
    "\n",
    "rev_mapping_df"
   ]
  },
  {
   "cell_type": "markdown",
   "id": "e733465c",
   "metadata": {},
   "source": [
    "# Cyclic transformations"
   ]
  },
  {
   "cell_type": "code",
   "execution_count": 6,
   "id": "6c99d834",
   "metadata": {},
   "outputs": [],
   "source": [
    "df['started_day'] = df.started.dt.day\n",
    "df['started_day_sin'] = np.sin((df.started_day-1)*(2.*np.pi/31))\n",
    "df['started_day_cos'] = np.cos((df.started_day-1)*(2.*np.pi/31))\n",
    "df['started_month'] = df.started.dt.month\n",
    "df['started_month_sin'] = np.sin((df.started_month-1)*(2.*np.pi/12))\n",
    "df['started_month_cos'] = np.cos((df.started_month-1)*(2.*np.pi/12))\n",
    "# can not by normalized df['started_year'] = df.started.dt.year\n",
    "df.drop(columns=['started'], inplace=True)"
   ]
  },
  {
   "cell_type": "code",
   "execution_count": 7,
   "id": "ff4edcd9",
   "metadata": {},
   "outputs": [],
   "source": [
    "df['first_started_day'] = df.first_started.dt.day\n",
    "df['first_started_day_sin'] = np.sin((df.first_started_day-1)*(2.*np.pi/31))\n",
    "df['first_started_day_cos'] = np.cos((df.first_started_day-1)*(2.*np.pi/31))\n",
    "df['first_started_month'] = df.first_started.dt.month\n",
    "df['first_started_month_sin'] = np.sin((df.first_started_month-1)*(2.*np.pi/12))\n",
    "df['first_started_month_cos'] = np.cos((df.first_started_month-1)*(2.*np.pi/12))\n",
    "df['first_started_year'] = df.first_started.dt.year\n",
    "df.drop(columns=['first_started'], inplace=True)"
   ]
  },
  {
   "cell_type": "markdown",
   "id": "489193a9",
   "metadata": {},
   "source": [
    "# Train, test, validation split"
   ]
  },
  {
   "cell_type": "code",
   "execution_count": 8,
   "id": "f47a7749",
   "metadata": {},
   "outputs": [
    {
     "name": "stdout",
     "output_type": "stream",
     "text": [
      "(2454, 19) all examples and columns\n",
      "1983 train examples\n",
      "243 test examples\n",
      "228 validation examples\n"
     ]
    }
   ],
   "source": [
    "train_df = df[df['split_set'] == 'train'].drop(columns=['split_set'])\n",
    "test_df = df[df['split_set'] == 'test'].drop(columns=['split_set'])\n",
    "val_df = df[df['split_set'] == 'validation'].drop(columns=['split_set'])\n",
    "print(df.shape, 'all examples and columns')\n",
    "print(len(train_df), 'train examples')\n",
    "print(len(test_df), 'test examples')\n",
    "print(len(val_df), 'validation examples')"
   ]
  },
  {
   "cell_type": "markdown",
   "id": "b92b4ca3",
   "metadata": {},
   "source": [
    "## Transform Pandas DF into Tensorflow Dataset"
   ]
  },
  {
   "cell_type": "code",
   "execution_count": 9,
   "id": "ba8316f9",
   "metadata": {},
   "outputs": [],
   "source": [
    "def df2dataset(df: pd.DataFrame, shuffle=True, batch_size=32):\n",
    "    df = df.copy()\n",
    "    labels = df.pop(\"i1_true_label_id\").astype(np.int64)\n",
    "    for col in df.columns:\n",
    "        if isinstance(df[col].dtype, pd.Int64Dtype):\n",
    "            # It's often safest to convert feature columns to float32,\n",
    "            # as it naturally handles potential missing values if you need them.\n",
    "            # also solves ValueError: Failed to convert a NumPy array to a Tensor (Unsupported object type int).\n",
    "            print(f\"Converting feature column '{col}' from Int64 to float32.\")\n",
    "            df[col] = df[col].astype(np.float32)\n",
    "    ds = tf.data.Dataset.from_tensor_slices((dict(df), labels))\n",
    "    if shuffle:\n",
    "        ds = ds.shuffle(buffer_size=len(df), seed=42)\n",
    "    # ds.map(lambda...) MLE 4.3.2\n",
    "    ds = ds.batch(batch_size=batch_size)\n",
    "    return ds"
   ]
  },
  {
   "cell_type": "code",
   "execution_count": 10,
   "id": "de693d57",
   "metadata": {},
   "outputs": [
    {
     "name": "stdout",
     "output_type": "stream",
     "text": [
      "List of feature names: ['type', 'description', 'amount', 'currency', 'started_day', 'started_day_sin', 'started_day_cos', 'started_month', 'started_month_sin', 'started_month_cos', 'first_started_day', 'first_started_day_sin', 'first_started_day_cos', 'first_started_month', 'first_started_month_sin', 'first_started_month_cos', 'first_started_year']\n",
      "Batch of type: [b'TOPUP' b'TOPUP' b'CARD_PAYMENT' b'TOPUP' b'CARD_PAYMENT'\n",
      " b'CARD_PAYMENT' b'CARD_PAYMENT' b'CARD_PAYMENT' b'CARD_PAYMENT' b'TOPUP'\n",
      " b'CARD_PAYMENT' b'CARD_PAYMENT' b'TOPUP' b'CARD_PAYMENT' b'CARD_PAYMENT'\n",
      " b'TRANSFER' b'TOPUP' b'CARD_PAYMENT' b'CARD_PAYMENT' b'CARD_PAYMENT'\n",
      " b'TOPUP' b'CARD_PAYMENT' b'CARD_PAYMENT' b'TOPUP' b'CARD_PAYMENT'\n",
      " b'CARD_PAYMENT' b'CARD_PAYMENT' b'CARD_PAYMENT' b'CARD_PAYMENT'\n",
      " b'CARD_PAYMENT' b'CARD_PAYMENT' b'TRANSFER']\n",
      "Batch of labels: [11 11  9 11  4  7  4  9  4 11  7  9 11  9 12  2 11  7  5  5 11  9  4 11\n",
      "  7  1  2  1  2 12  1  5]\n"
     ]
    }
   ],
   "source": [
    "train_ds = df2dataset(train_df)\n",
    "val_ds = df2dataset(val_df, shuffle=True)\n",
    "for feature_batch, label_batch in train_ds.take(1):\n",
    "    print(f'List of feature names: {list(feature_batch.keys())}')\n",
    "    print(f'Batch of type: {feature_batch[\"type\"]}')\n",
    "    print(f'Batch of labels: {label_batch}')"
   ]
  },
  {
   "cell_type": "markdown",
   "id": "1224a625",
   "metadata": {},
   "source": [
    "# Feature Columns"
   ]
  },
  {
   "cell_type": "code",
   "execution_count": 11,
   "id": "57bcc590",
   "metadata": {},
   "outputs": [],
   "source": [
    "feature_columns = []"
   ]
  },
  {
   "cell_type": "markdown",
   "id": "7812c750",
   "metadata": {},
   "source": [
    "Numerical columns"
   ]
  },
  {
   "cell_type": "code",
   "execution_count": 12,
   "id": "d18a525d",
   "metadata": {},
   "outputs": [],
   "source": [
    "numerical_col_names_normalized = ['started_day_sin', 'started_day_cos', 'started_month_sin', 'started_month_cos', 'first_started_day_sin', 'first_started_day_cos', 'first_started_month_sin', 'first_started_month_cos']\n",
    "# numerical_col_names_to_normalize = ['amount', 'fee', 'started_day', 'started_month', 'first_started_day', 'first_started_month', 'first_started_year']\n",
    "# numerical_col_names_to_normalize = ['amount', 'started_day', 'started_month', 'first_started_day', 'first_started_month', 'first_started_year']\n",
    "numerical_col_names_to_normalize = ['amount']"
   ]
  },
  {
   "cell_type": "code",
   "execution_count": 13,
   "id": "09849043",
   "metadata": {},
   "outputs": [
    {
     "name": "stdout",
     "output_type": "stream",
     "text": [
      "WARNING:tensorflow:From C:\\Users\\admin\\AppData\\Local\\Temp\\ipykernel_16280\\792557420.py:2: numeric_column (from tensorflow.python.feature_column.feature_column_v2) is deprecated and will be removed in a future version.\n",
      "Instructions for updating:\n",
      "Use Keras preprocessing layers instead, either directly or via the `tf.keras.utils.FeatureSpace` utility. Each of `tf.feature_column.*` has a functional equivalent in `tf.keras.layers` for feature preprocessing when training a Keras model.\n"
     ]
    }
   ],
   "source": [
    "for feature_name in numerical_col_names_normalized:\n",
    "    feature_columns.append(fc.numeric_column(feature_name))"
   ]
  },
  {
   "cell_type": "code",
   "execution_count": 14,
   "id": "330a5bdd",
   "metadata": {},
   "outputs": [],
   "source": [
    "STATS = {}\n",
    "for feature in numerical_col_names_to_normalize:\n",
    "    min_val = train_df[feature].min()\n",
    "    max_val = train_df[feature].max()\n",
    "    \n",
    "    STATS[feature] = {\n",
    "        'min': min_val,\n",
    "        'max': max_val\n",
    "    }\n",
    "\n",
    "def get_scaling_fn(feature: str):\n",
    "    def minmax(x):\n",
    "        mini = STATS[feature]['min']\n",
    "        maxi = STATS[feature]['max']\n",
    "        return (x-mini)/(maxi-mini + 1e-7)\n",
    "    return minmax"
   ]
  },
  {
   "cell_type": "code",
   "execution_count": 15,
   "id": "41c72bda",
   "metadata": {},
   "outputs": [],
   "source": [
    "for feature_name in numerical_col_names_to_normalize:\n",
    "    scaling_fn = get_scaling_fn(feature_name)\n",
    "    feature_columns.append(fc.numeric_column(feature_name, normalizer_fn=scaling_fn))"
   ]
  },
  {
   "cell_type": "markdown",
   "id": "383873f3",
   "metadata": {},
   "source": [
    "Categorical columns"
   ]
  },
  {
   "cell_type": "code",
   "execution_count": 16,
   "id": "d8fec63c",
   "metadata": {},
   "outputs": [
    {
     "name": "stdout",
     "output_type": "stream",
     "text": [
      "WARNING:tensorflow:From C:\\Users\\admin\\AppData\\Local\\Temp\\ipykernel_16280\\1969831759.py:8: categorical_column_with_vocabulary_list (from tensorflow.python.feature_column.feature_column_v2) is deprecated and will be removed in a future version.\n",
      "Instructions for updating:\n",
      "Use Keras preprocessing layers instead, either directly or via the `tf.keras.utils.FeatureSpace` utility. Each of `tf.feature_column.*` has a functional equivalent in `tf.keras.layers` for feature preprocessing when training a Keras model.\n",
      "WARNING:tensorflow:From C:\\Users\\admin\\AppData\\Local\\Temp\\ipykernel_16280\\1969831759.py:12: indicator_column (from tensorflow.python.feature_column.feature_column_v2) is deprecated and will be removed in a future version.\n",
      "Instructions for updating:\n",
      "Use Keras preprocessing layers instead, either directly or via the `tf.keras.utils.FeatureSpace` utility. Each of `tf.feature_column.*` has a functional equivalent in `tf.keras.layers` for feature preprocessing when training a Keras model.\n",
      "WARNING:tensorflow:From C:\\Users\\admin\\AppData\\Local\\Temp\\ipykernel_16280\\1969831759.py:10: embedding_column (from tensorflow.python.feature_column.feature_column_v2) is deprecated and will be removed in a future version.\n",
      "Instructions for updating:\n",
      "Use Keras preprocessing layers instead, either directly or via the `tf.keras.utils.FeatureSpace` utility. Each of `tf.feature_column.*` has a functional equivalent in `tf.keras.layers` for feature preprocessing when training a Keras model.\n"
     ]
    }
   ],
   "source": [
    "# categorical_columns = ['type', 'description', 'currency', 'state', 'account']\n",
    "#categorical_columns = ['type', 'description', 'currency', 'state']\n",
    "categorical_columns = ['type', 'description']\n",
    "#categorical_columns = ['type']\n",
    "tobe_crossed = []\n",
    "for feature_name in categorical_columns:\n",
    "    vocabulary = df[feature_name].unique()\n",
    "    feature_column = fc.categorical_column_with_vocabulary_list(feature_name, vocabulary, num_oov_buckets=1)\n",
    "    if feature_name == 'description':\n",
    "        feature_columns.append(fc.embedding_column(feature_column, dimension=8))\n",
    "    else:\n",
    "        feature_columns.append(fc.indicator_column(feature_column))\n",
    "\n",
    "    if feature_name in ['type', 'description']:\n",
    "        tobe_crossed.append(feature_column)"
   ]
  },
  {
   "cell_type": "markdown",
   "id": "e01fb37a",
   "metadata": {},
   "source": [
    "Crossed features"
   ]
  },
  {
   "cell_type": "code",
   "execution_count": 17,
   "id": "ffb28cc6",
   "metadata": {},
   "outputs": [
    {
     "name": "stdout",
     "output_type": "stream",
     "text": [
      "WARNING:tensorflow:From C:\\Users\\admin\\AppData\\Local\\Temp\\ipykernel_16280\\571397818.py:1: crossed_column (from tensorflow.python.feature_column.feature_column_v2) is deprecated and will be removed in a future version.\n",
      "Instructions for updating:\n",
      "Use `tf.keras.layers.experimental.preprocessing.HashedCrossing` instead for feature crossing when preprocessing data to train a Keras model.\n"
     ]
    }
   ],
   "source": [
    "type_description_cross = fc.crossed_column(tobe_crossed, hash_bucket_size=20)\n",
    "type_description_cross = fc.indicator_column(type_description_cross)\n",
    "feature_columns.append(type_description_cross)"
   ]
  },
  {
   "cell_type": "markdown",
   "id": "9924d61e",
   "metadata": {},
   "source": [
    "# Model training"
   ]
  },
  {
   "cell_type": "code",
   "execution_count": 18,
   "id": "b8a4005d",
   "metadata": {},
   "outputs": [
    {
     "name": "stdout",
     "output_type": "stream",
     "text": [
      "Epoch 1/100\n",
      "WARNING:tensorflow:Layers in a Sequential model should only have a single input tensor. Received: inputs={'type': <tf.Tensor 'IteratorGetNext:16' shape=(None,) dtype=string>, 'description': <tf.Tensor 'IteratorGetNext:2' shape=(None,) dtype=string>, 'amount': <tf.Tensor 'IteratorGetNext:0' shape=(None,) dtype=float64>, 'currency': <tf.Tensor 'IteratorGetNext:1' shape=(None,) dtype=string>, 'started_day': <tf.Tensor 'IteratorGetNext:10' shape=(None,) dtype=int64>, 'started_day_sin': <tf.Tensor 'IteratorGetNext:12' shape=(None,) dtype=float64>, 'started_day_cos': <tf.Tensor 'IteratorGetNext:11' shape=(None,) dtype=float64>, 'started_month': <tf.Tensor 'IteratorGetNext:13' shape=(None,) dtype=int64>, 'started_month_sin': <tf.Tensor 'IteratorGetNext:15' shape=(None,) dtype=float64>, 'started_month_cos': <tf.Tensor 'IteratorGetNext:14' shape=(None,) dtype=float64>, 'first_started_day': <tf.Tensor 'IteratorGetNext:3' shape=(None,) dtype=int64>, 'first_started_day_sin': <tf.Tensor 'IteratorGetNext:5' shape=(None,) dtype=float64>, 'first_started_day_cos': <tf.Tensor 'IteratorGetNext:4' shape=(None,) dtype=float64>, 'first_started_month': <tf.Tensor 'IteratorGetNext:6' shape=(None,) dtype=int64>, 'first_started_month_sin': <tf.Tensor 'IteratorGetNext:8' shape=(None,) dtype=float64>, 'first_started_month_cos': <tf.Tensor 'IteratorGetNext:7' shape=(None,) dtype=float64>, 'first_started_year': <tf.Tensor 'IteratorGetNext:9' shape=(None,) dtype=int64>}. Consider rewriting this model with the Functional API.\n",
      "WARNING:tensorflow:Layers in a Sequential model should only have a single input tensor. Received: inputs={'type': <tf.Tensor 'IteratorGetNext:16' shape=(None,) dtype=string>, 'description': <tf.Tensor 'IteratorGetNext:2' shape=(None,) dtype=string>, 'amount': <tf.Tensor 'IteratorGetNext:0' shape=(None,) dtype=float64>, 'currency': <tf.Tensor 'IteratorGetNext:1' shape=(None,) dtype=string>, 'started_day': <tf.Tensor 'IteratorGetNext:10' shape=(None,) dtype=int64>, 'started_day_sin': <tf.Tensor 'IteratorGetNext:12' shape=(None,) dtype=float64>, 'started_day_cos': <tf.Tensor 'IteratorGetNext:11' shape=(None,) dtype=float64>, 'started_month': <tf.Tensor 'IteratorGetNext:13' shape=(None,) dtype=int64>, 'started_month_sin': <tf.Tensor 'IteratorGetNext:15' shape=(None,) dtype=float64>, 'started_month_cos': <tf.Tensor 'IteratorGetNext:14' shape=(None,) dtype=float64>, 'first_started_day': <tf.Tensor 'IteratorGetNext:3' shape=(None,) dtype=int64>, 'first_started_day_sin': <tf.Tensor 'IteratorGetNext:5' shape=(None,) dtype=float64>, 'first_started_day_cos': <tf.Tensor 'IteratorGetNext:4' shape=(None,) dtype=float64>, 'first_started_month': <tf.Tensor 'IteratorGetNext:6' shape=(None,) dtype=int64>, 'first_started_month_sin': <tf.Tensor 'IteratorGetNext:8' shape=(None,) dtype=float64>, 'first_started_month_cos': <tf.Tensor 'IteratorGetNext:7' shape=(None,) dtype=float64>, 'first_started_year': <tf.Tensor 'IteratorGetNext:9' shape=(None,) dtype=int64>}. Consider rewriting this model with the Functional API.\n",
      "55/62 [=========================>....] - ETA: 0s - loss: 1.9950 - accuracy: 0.3881WARNING:tensorflow:Layers in a Sequential model should only have a single input tensor. Received: inputs={'type': <tf.Tensor 'IteratorGetNext:16' shape=(None,) dtype=string>, 'description': <tf.Tensor 'IteratorGetNext:2' shape=(None,) dtype=string>, 'amount': <tf.Tensor 'IteratorGetNext:0' shape=(None,) dtype=float64>, 'currency': <tf.Tensor 'IteratorGetNext:1' shape=(None,) dtype=string>, 'started_day': <tf.Tensor 'IteratorGetNext:10' shape=(None,) dtype=int64>, 'started_day_sin': <tf.Tensor 'IteratorGetNext:12' shape=(None,) dtype=float64>, 'started_day_cos': <tf.Tensor 'IteratorGetNext:11' shape=(None,) dtype=float64>, 'started_month': <tf.Tensor 'IteratorGetNext:13' shape=(None,) dtype=int64>, 'started_month_sin': <tf.Tensor 'IteratorGetNext:15' shape=(None,) dtype=float64>, 'started_month_cos': <tf.Tensor 'IteratorGetNext:14' shape=(None,) dtype=float64>, 'first_started_day': <tf.Tensor 'IteratorGetNext:3' shape=(None,) dtype=int64>, 'first_started_day_sin': <tf.Tensor 'IteratorGetNext:5' shape=(None,) dtype=float64>, 'first_started_day_cos': <tf.Tensor 'IteratorGetNext:4' shape=(None,) dtype=float64>, 'first_started_month': <tf.Tensor 'IteratorGetNext:6' shape=(None,) dtype=int64>, 'first_started_month_sin': <tf.Tensor 'IteratorGetNext:8' shape=(None,) dtype=float64>, 'first_started_month_cos': <tf.Tensor 'IteratorGetNext:7' shape=(None,) dtype=float64>, 'first_started_year': <tf.Tensor 'IteratorGetNext:9' shape=(None,) dtype=int64>}. Consider rewriting this model with the Functional API.\n",
      "\n",
      "Epoch 1: val_loss improved from inf to 1.53837, saving model to best_model.h5\n",
      "WARNING:tensorflow:From c:\\Users\\admin\\.conda\\envs\\tf2121_py39\\lib\\site-packages\\keras\\feature_column\\base_feature_layer.py:129: serialize_feature_column (from tensorflow.python.feature_column.serialization) is deprecated and will be removed in a future version.\n",
      "Instructions for updating:\n",
      "Use Keras preprocessing layers instead, either directly or via the `tf.keras.utils.FeatureSpace` utility. Each of `tf.feature_column.*` has a functional equivalent in `tf.keras.layers` for feature preprocessing when training a Keras model.\n",
      "62/62 [==============================] - 1s 8ms/step - loss: 1.9414 - accuracy: 0.3964 - val_loss: 1.5384 - val_accuracy: 0.4781\n",
      "Epoch 2/100\n",
      "58/62 [===========================>..] - ETA: 0s - loss: 1.3583 - accuracy: 0.5717\n",
      "Epoch 2: val_loss improved from 1.53837 to 1.26668, saving model to best_model.h5\n",
      "62/62 [==============================] - 0s 3ms/step - loss: 1.3426 - accuracy: 0.5814 - val_loss: 1.2667 - val_accuracy: 0.6667\n",
      "Epoch 3/100\n",
      "56/62 [==========================>...] - ETA: 0s - loss: 1.0808 - accuracy: 0.6842\n",
      "Epoch 3: val_loss improved from 1.26668 to 1.07597, saving model to best_model.h5\n",
      "62/62 [==============================] - 0s 3ms/step - loss: 1.0675 - accuracy: 0.6884 - val_loss: 1.0760 - val_accuracy: 0.6886\n",
      "Epoch 4/100\n",
      "31/62 [==============>...............] - ETA: 0s - loss: 0.8917 - accuracy: 0.7540\n",
      "Epoch 4: val_loss improved from 1.07597 to 0.93415, saving model to best_model.h5\n",
      "62/62 [==============================] - 0s 3ms/step - loss: 0.8746 - accuracy: 0.7524 - val_loss: 0.9341 - val_accuracy: 0.7325\n",
      "Epoch 5/100\n",
      "59/62 [===========================>..] - ETA: 0s - loss: 0.7460 - accuracy: 0.7897\n",
      "Epoch 5: val_loss improved from 0.93415 to 0.84042, saving model to best_model.h5\n",
      "62/62 [==============================] - 0s 3ms/step - loss: 0.7427 - accuracy: 0.7932 - val_loss: 0.8404 - val_accuracy: 0.7500\n",
      "Epoch 6/100\n",
      "40/62 [==================>...........] - ETA: 0s - loss: 0.6248 - accuracy: 0.8289\n",
      "Epoch 6: val_loss improved from 0.84042 to 0.78155, saving model to best_model.h5\n",
      "62/62 [==============================] - 0s 2ms/step - loss: 0.6480 - accuracy: 0.8230 - val_loss: 0.7816 - val_accuracy: 0.7719\n",
      "Epoch 7/100\n",
      "31/62 [==============>...............] - ETA: 0s - loss: 0.5412 - accuracy: 0.8609\n",
      "Epoch 7: val_loss improved from 0.78155 to 0.73539, saving model to best_model.h5\n",
      "62/62 [==============================] - 0s 2ms/step - loss: 0.5727 - accuracy: 0.8477 - val_loss: 0.7354 - val_accuracy: 0.7763\n",
      "Epoch 8/100\n",
      "45/62 [====================>.........] - ETA: 0s - loss: 0.5227 - accuracy: 0.8521\n",
      "Epoch 8: val_loss improved from 0.73539 to 0.69865, saving model to best_model.h5\n",
      "62/62 [==============================] - 0s 2ms/step - loss: 0.5120 - accuracy: 0.8568 - val_loss: 0.6986 - val_accuracy: 0.7939\n",
      "Epoch 9/100\n",
      "37/62 [================>.............] - ETA: 0s - loss: 0.4563 - accuracy: 0.8682\n",
      "Epoch 9: val_loss improved from 0.69865 to 0.66611, saving model to best_model.h5\n",
      "62/62 [==============================] - 0s 2ms/step - loss: 0.4625 - accuracy: 0.8709 - val_loss: 0.6661 - val_accuracy: 0.8026\n",
      "Epoch 10/100\n",
      "29/62 [=============>................] - ETA: 0s - loss: 0.4006 - accuracy: 0.8847\n",
      "Epoch 10: val_loss improved from 0.66611 to 0.63709, saving model to best_model.h5\n",
      "62/62 [==============================] - 0s 2ms/step - loss: 0.4173 - accuracy: 0.8825 - val_loss: 0.6371 - val_accuracy: 0.8114\n",
      "Epoch 11/100\n",
      "49/62 [======================>.......] - ETA: 0s - loss: 0.3827 - accuracy: 0.8916\n",
      "Epoch 11: val_loss improved from 0.63709 to 0.62315, saving model to best_model.h5\n",
      "62/62 [==============================] - 0s 3ms/step - loss: 0.3810 - accuracy: 0.8901 - val_loss: 0.6232 - val_accuracy: 0.8202\n",
      "Epoch 12/100\n",
      "60/62 [============================>.] - ETA: 0s - loss: 0.3419 - accuracy: 0.9010\n",
      "Epoch 12: val_loss improved from 0.62315 to 0.61078, saving model to best_model.h5\n",
      "62/62 [==============================] - 0s 3ms/step - loss: 0.3398 - accuracy: 0.9022 - val_loss: 0.6108 - val_accuracy: 0.8289\n",
      "Epoch 13/100\n",
      "32/62 [==============>...............] - ETA: 0s - loss: 0.3201 - accuracy: 0.9043\n",
      "Epoch 13: val_loss improved from 0.61078 to 0.59988, saving model to best_model.h5\n",
      "62/62 [==============================] - 0s 2ms/step - loss: 0.3086 - accuracy: 0.9123 - val_loss: 0.5999 - val_accuracy: 0.8333\n",
      "Epoch 14/100\n",
      "31/62 [==============>...............] - ETA: 0s - loss: 0.2655 - accuracy: 0.9284\n",
      "Epoch 14: val_loss improved from 0.59988 to 0.59468, saving model to best_model.h5\n",
      "62/62 [==============================] - 0s 2ms/step - loss: 0.2797 - accuracy: 0.9203 - val_loss: 0.5947 - val_accuracy: 0.8377\n",
      "Epoch 15/100\n",
      "58/62 [===========================>..] - ETA: 0s - loss: 0.2554 - accuracy: 0.9278\n",
      "Epoch 15: val_loss did not improve from 0.59468\n",
      "62/62 [==============================] - 0s 3ms/step - loss: 0.2543 - accuracy: 0.9284 - val_loss: 0.6217 - val_accuracy: 0.8465\n",
      "Epoch 16/100\n",
      "47/62 [=====================>........] - ETA: 0s - loss: 0.2268 - accuracy: 0.9382\n",
      "Epoch 16: val_loss did not improve from 0.59468\n",
      "62/62 [==============================] - 0s 3ms/step - loss: 0.2305 - accuracy: 0.9370 - val_loss: 0.6158 - val_accuracy: 0.8246\n",
      "Epoch 17/100\n",
      "54/62 [=========================>....] - ETA: 0s - loss: 0.2149 - accuracy: 0.9392\n",
      "Epoch 17: val_loss improved from 0.59468 to 0.59062, saving model to best_model.h5\n",
      "62/62 [==============================] - 0s 3ms/step - loss: 0.2106 - accuracy: 0.9410 - val_loss: 0.5906 - val_accuracy: 0.8509\n",
      "Epoch 18/100\n",
      "53/62 [========================>.....] - ETA: 0s - loss: 0.1845 - accuracy: 0.9511\n",
      "Epoch 18: val_loss did not improve from 0.59062\n",
      "62/62 [==============================] - 0s 2ms/step - loss: 0.1912 - accuracy: 0.9501 - val_loss: 0.6022 - val_accuracy: 0.8596\n",
      "Epoch 19/100\n",
      "57/62 [==========================>...] - ETA: 0s - loss: 0.1784 - accuracy: 0.9539\n",
      "Epoch 19: val_loss did not improve from 0.59062\n",
      "62/62 [==============================] - 0s 2ms/step - loss: 0.1782 - accuracy: 0.9541 - val_loss: 0.6144 - val_accuracy: 0.8465\n",
      "Epoch 20/100\n",
      "50/62 [=======================>......] - ETA: 0s - loss: 0.1632 - accuracy: 0.9588\n",
      "Epoch 20: val_loss did not improve from 0.59062\n",
      "62/62 [==============================] - 0s 3ms/step - loss: 0.1630 - accuracy: 0.9581 - val_loss: 0.6234 - val_accuracy: 0.8465\n",
      "Epoch 21/100\n",
      "54/62 [=========================>....] - ETA: 0s - loss: 0.1452 - accuracy: 0.9606\n",
      "Epoch 21: val_loss did not improve from 0.59062\n",
      "62/62 [==============================] - 0s 2ms/step - loss: 0.1480 - accuracy: 0.9602 - val_loss: 0.6401 - val_accuracy: 0.8553\n",
      "Epoch 22/100\n",
      "55/62 [=========================>....] - ETA: 0s - loss: 0.1450 - accuracy: 0.9614Restoring model weights from the end of the best epoch: 17.\n",
      "\n",
      "Epoch 22: val_loss did not improve from 0.59062\n",
      "62/62 [==============================] - 0s 3ms/step - loss: 0.1389 - accuracy: 0.9632 - val_loss: 0.6398 - val_accuracy: 0.8640\n",
      "Epoch 22: early stopping\n"
     ]
    }
   ],
   "source": [
    "feature_layer = tf.keras.layers.DenseFeatures(feature_columns)\n",
    "\n",
    "model = tf.keras.Sequential([\n",
    "    feature_layer,\n",
    "    layers.Dense(80, input_dim=20, activation='relu'),\n",
    "    layers.Dense(40, activation='relu'),\n",
    "    layers.Dense(len(class_names), activation='softmax', name='i1_pred_label_id'),\n",
    "])\n",
    "model.compile(optimizer='adam',\n",
    "              loss='sparse_categorical_crossentropy',\n",
    "              metrics=['accuracy'])\n",
    "\n",
    "early_stopping = EarlyStopping(monitor='val_loss',  # seen in earlier output, the metric to watch\n",
    "                               patience=5,          # how many epochs to wait for improvement\n",
    "                               verbose=1,           # print message when stop\n",
    "                               restore_best_weights=True)\n",
    "model_checkpoint = ModelCheckpoint(filepath='best_model.h5',\n",
    "                                   monitor='val_loss',\n",
    "                                   save_best_only=True,\n",
    "                                   verbose=1)\n",
    "history = model.fit(train_ds, \n",
    "                    validation_data=val_ds, \n",
    "                    epochs=100,\n",
    "                    callbacks=[early_stopping, model_checkpoint])\n"
   ]
  },
  {
   "cell_type": "markdown",
   "id": "16a2acb7",
   "metadata": {},
   "source": [
    "Control model's input shape"
   ]
  },
  {
   "cell_type": "code",
   "execution_count": 19,
   "id": "0f879197",
   "metadata": {},
   "outputs": [
    {
     "name": "stdout",
     "output_type": "stream",
     "text": [
      "The feature_layer is sending 43 columns to the model.\n"
     ]
    }
   ],
   "source": [
    "# Get a single batch of features from your dataset\n",
    "feature_batch, label_batch = next(iter(train_ds))\n",
    "\n",
    "num_output_columns = feature_layer(feature_batch).shape[-1]\n",
    "print(f\"The feature_layer is sending {num_output_columns} columns to the model.\")"
   ]
  },
  {
   "cell_type": "markdown",
   "id": "5ff56073",
   "metadata": {},
   "source": [
    "# Model evaluation "
   ]
  },
  {
   "cell_type": "code",
   "execution_count": 20,
   "id": "0ab1e3b0",
   "metadata": {},
   "outputs": [
    {
     "name": "stdout",
     "output_type": "stream",
     "text": [
      "8/8 [==============================] - 0s 2ms/step - loss: 0.5906 - accuracy: 0.8509\n",
      "Validation Loss: 0.5906\n",
      "Validation Accuracy: 0.8509\n"
     ]
    }
   ],
   "source": [
    "loss, accuracy = model.evaluate(val_ds)\n",
    "print(f\"Validation Loss: {loss:.4f}\")\n",
    "print(f\"Validation Accuracy: {accuracy:.4f}\")"
   ]
  },
  {
   "cell_type": "code",
   "execution_count": 21,
   "id": "9e88ee60",
   "metadata": {},
   "outputs": [],
   "source": [
    "def plot_curves(history, metrics):\n",
    "    nrows=1\n",
    "    ncols=2\n",
    "    fig = plt.figure(figsize=(10, 5))\n",
    "    for idx, key in enumerate(metrics):\n",
    "        ax = fig.add_subplot(nrows, ncols, idx+1)\n",
    "        plt.plot(history.history[key])\n",
    "        plt.plot(history.history[f'val_{key}'])\n",
    "        plt.title(f\"model {key}\")\n",
    "        plt.ylabel(key)\n",
    "        plt.xlabel(\"epoch\")\n",
    "        plt.legend(['train', 'validation'], loc='upper left')"
   ]
  },
  {
   "cell_type": "markdown",
   "id": "6abd78de",
   "metadata": {},
   "source": [
    "Training statistics"
   ]
  },
  {
   "cell_type": "code",
   "execution_count": 22,
   "id": "38b083c8",
   "metadata": {},
   "outputs": [
    {
     "data": {
      "image/png": "[encoded data removed]",
      "text/plain": [
       "<Figure size 1000x500 with 2 Axes>"
      ]
     },
     "metadata": {},
     "output_type": "display_data"
    }
   ],
   "source": [
    "plot_curves(history, ['loss', 'accuracy'])"
   ]
  },
  {
   "cell_type": "markdown",
   "id": "062eaebd",
   "metadata": {},
   "source": [
    "# Model test"
   ]
  },
  {
   "cell_type": "markdown",
   "id": "dbeca705",
   "metadata": {},
   "source": [
    "Batch prediction"
   ]
  },
  {
   "cell_type": "code",
   "execution_count": 23,
   "id": "dd0c9937",
   "metadata": {},
   "outputs": [
    {
     "name": "stdout",
     "output_type": "stream",
     "text": [
      "WARNING:tensorflow:Layers in a Sequential model should only have a single input tensor. Received: inputs={'type': <tf.Tensor 'IteratorGetNext:16' shape=(None,) dtype=string>, 'description': <tf.Tensor 'IteratorGetNext:2' shape=(None,) dtype=string>, 'amount': <tf.Tensor 'IteratorGetNext:0' shape=(None,) dtype=float64>, 'currency': <tf.Tensor 'IteratorGetNext:1' shape=(None,) dtype=string>, 'started_day': <tf.Tensor 'IteratorGetNext:10' shape=(None,) dtype=int64>, 'started_day_sin': <tf.Tensor 'IteratorGetNext:12' shape=(None,) dtype=float64>, 'started_day_cos': <tf.Tensor 'IteratorGetNext:11' shape=(None,) dtype=float64>, 'started_month': <tf.Tensor 'IteratorGetNext:13' shape=(None,) dtype=int64>, 'started_month_sin': <tf.Tensor 'IteratorGetNext:15' shape=(None,) dtype=float64>, 'started_month_cos': <tf.Tensor 'IteratorGetNext:14' shape=(None,) dtype=float64>, 'first_started_day': <tf.Tensor 'IteratorGetNext:3' shape=(None,) dtype=int64>, 'first_started_day_sin': <tf.Tensor 'IteratorGetNext:5' shape=(None,) dtype=float64>, 'first_started_day_cos': <tf.Tensor 'IteratorGetNext:4' shape=(None,) dtype=float64>, 'first_started_month': <tf.Tensor 'IteratorGetNext:6' shape=(None,) dtype=int64>, 'first_started_month_sin': <tf.Tensor 'IteratorGetNext:8' shape=(None,) dtype=float64>, 'first_started_month_cos': <tf.Tensor 'IteratorGetNext:7' shape=(None,) dtype=float64>, 'first_started_year': <tf.Tensor 'IteratorGetNext:9' shape=(None,) dtype=int64>}. Consider rewriting this model with the Functional API.\n",
      "8/8 [==============================] - 0s 2ms/step\n"
     ]
    }
   ],
   "source": [
    "# without shuffle to preserve order\n",
    "test_pred_ds = df2dataset(test_df, shuffle=False)\n",
    "i1_pred_label_probas = model.predict(test_pred_ds)"
   ]
  },
  {
   "cell_type": "code",
   "execution_count": 24,
   "id": "fde3b8fe",
   "metadata": {},
   "outputs": [
    {
     "data": {
      "text/plain": [
       "array([3.8635612e-06, 1.4339937e-06, 2.3561101e-06, 9.7355269e-06,\n",
       "       5.4480766e-05, 4.6440841e-06, 2.9395440e-05, 1.3255134e-09,\n",
       "       4.1158572e-05, 6.9991081e-08, 2.2348115e-07, 9.9985254e-01,\n",
       "       5.0301654e-08], dtype=float32)"
      ]
     },
     "execution_count": 24,
     "metadata": {},
     "output_type": "execute_result"
    }
   ],
   "source": [
    "i1_pred_label_probas[2]"
   ]
  },
  {
   "cell_type": "markdown",
   "id": "f04e8b85",
   "metadata": {},
   "source": [
    "Convert prediction probabilities from numpy to dataframe, adding class name and id"
   ]
  },
  {
   "cell_type": "code",
   "execution_count": 25,
   "id": "7f039cde",
   "metadata": {},
   "outputs": [],
   "source": [
    "i1_pred_label_probas_df = pd.DataFrame(i1_pred_label_probas, columns=class_names)\n",
    "i1_pred_label_probas_df['i1_pred_label'] = i1_pred_label_probas_df.idxmax(axis=1)\n",
    "i1_pred_label_probas_df = (\n",
    "    i1_pred_label_probas_df\n",
    "    .merge(rev_mapping_df, left_on='i1_pred_label', right_on='i1_true_label')\n",
    "    .drop(columns=['i1_true_label'])\n",
    "    .rename(columns={'i1_true_label_id':'i1_pred_label_id'})\n",
    ")"
   ]
  },
  {
   "cell_type": "markdown",
   "id": "12cf020e",
   "metadata": {},
   "source": [
    "Combine test data with text labels and probabilities"
   ]
  },
  {
   "cell_type": "code",
   "execution_count": 26,
   "id": "3c15a443",
   "metadata": {},
   "outputs": [
    {
     "data": {
      "text/html": [
       "<div>\n",
       "<style scoped>\n",
       "    .dataframe tbody tr th:only-of-type {\n",
       "        vertical-align: middle;\n",
       "    }\n",
       "\n",
       "    .dataframe tbody tr th {\n",
       "        vertical-align: top;\n",
       "    }\n",
       "\n",
       "    .dataframe thead th {\n",
       "        text-align: right;\n",
       "    }\n",
       "</style>\n",
       "<table border=\"1\" class=\"dataframe\">\n",
       "  <thead>\n",
       "    <tr style=\"text-align: right;\">\n",
       "      <th></th>\n",
       "      <th>i1_true_label_id</th>\n",
       "      <th>i1_true_label</th>\n",
       "      <th>i1_pred_label</th>\n",
       "      <th>i1_pred_label_id</th>\n",
       "    </tr>\n",
       "  </thead>\n",
       "  <tbody>\n",
       "    <tr>\n",
       "      <th>3</th>\n",
       "      <td>4</td>\n",
       "      <td>PK Leben</td>\n",
       "      <td>PK Leben</td>\n",
       "      <td>4</td>\n",
       "    </tr>\n",
       "    <tr>\n",
       "      <th>4</th>\n",
       "      <td>4</td>\n",
       "      <td>PK Leben</td>\n",
       "      <td>PK Leben</td>\n",
       "      <td>4</td>\n",
       "    </tr>\n",
       "    <tr>\n",
       "      <th>20</th>\n",
       "      <td>11</td>\n",
       "      <td>Top-Up</td>\n",
       "      <td>Top-Up</td>\n",
       "      <td>11</td>\n",
       "    </tr>\n",
       "    <tr>\n",
       "      <th>22</th>\n",
       "      <td>11</td>\n",
       "      <td>Top-Up</td>\n",
       "      <td>Top-Up</td>\n",
       "      <td>11</td>\n",
       "    </tr>\n",
       "    <tr>\n",
       "      <th>24</th>\n",
       "      <td>12</td>\n",
       "      <td>eShop</td>\n",
       "      <td>eShop</td>\n",
       "      <td>12</td>\n",
       "    </tr>\n",
       "    <tr>\n",
       "      <th>...</th>\n",
       "      <td>...</td>\n",
       "      <td>...</td>\n",
       "      <td>...</td>\n",
       "      <td>...</td>\n",
       "    </tr>\n",
       "    <tr>\n",
       "      <th>2418</th>\n",
       "      <td>7</td>\n",
       "      <td>PK Reisen</td>\n",
       "      <td>PK Reisen</td>\n",
       "      <td>7</td>\n",
       "    </tr>\n",
       "    <tr>\n",
       "      <th>2423</th>\n",
       "      <td>11</td>\n",
       "      <td>Top-Up</td>\n",
       "      <td>Top-Up</td>\n",
       "      <td>11</td>\n",
       "    </tr>\n",
       "    <tr>\n",
       "      <th>2433</th>\n",
       "      <td>7</td>\n",
       "      <td>PK Reisen</td>\n",
       "      <td>PK Reisen</td>\n",
       "      <td>7</td>\n",
       "    </tr>\n",
       "    <tr>\n",
       "      <th>2439</th>\n",
       "      <td>12</td>\n",
       "      <td>eShop</td>\n",
       "      <td>eShop</td>\n",
       "      <td>12</td>\n",
       "    </tr>\n",
       "    <tr>\n",
       "      <th>2444</th>\n",
       "      <td>11</td>\n",
       "      <td>Top-Up</td>\n",
       "      <td>Top-Up</td>\n",
       "      <td>11</td>\n",
       "    </tr>\n",
       "  </tbody>\n",
       "</table>\n",
       "<p>243 rows × 4 columns</p>\n",
       "</div>"
      ],
      "text/plain": [
       "      i1_true_label_id i1_true_label i1_pred_label  i1_pred_label_id\n",
       "3                    4      PK Leben      PK Leben                 4\n",
       "4                    4      PK Leben      PK Leben                 4\n",
       "20                  11        Top-Up        Top-Up                11\n",
       "22                  11        Top-Up        Top-Up                11\n",
       "24                  12         eShop         eShop                12\n",
       "...                ...           ...           ...               ...\n",
       "2418                 7     PK Reisen     PK Reisen                 7\n",
       "2423                11        Top-Up        Top-Up                11\n",
       "2433                 7     PK Reisen     PK Reisen                 7\n",
       "2439                12         eShop         eShop                12\n",
       "2444                11        Top-Up        Top-Up                11\n",
       "\n",
       "[243 rows x 4 columns]"
      ]
     },
     "execution_count": 26,
     "metadata": {},
     "output_type": "execute_result"
    }
   ],
   "source": [
    "rev_mapping_dict = rev_mapping_df.set_index('i1_true_label_id')['i1_true_label'].to_dict()\n",
    "\n",
    "predicted_ids = np.argmax(i1_pred_label_probas, axis=1)\n",
    "predicted_names = [rev_mapping_dict[i] for i in predicted_ids]\n",
    "\n",
    "true_ids = test_df.i1_true_label_id.to_list()\n",
    "true_names = [rev_mapping_dict[i] for i in true_ids]\n",
    "\n",
    "test_df_preds = test_df\n",
    "test_df_preds['i1_true_label'] = true_names\n",
    "test_df_preds['i1_pred_label'] = predicted_names\n",
    "test_df_preds['i1_pred_label_id'] = predicted_ids\n",
    "\n",
    "test_df_preds[['i1_true_label_id', 'i1_true_label', 'i1_pred_label', 'i1_pred_label_id']]"
   ]
  },
  {
   "cell_type": "markdown",
   "id": "38057f12",
   "metadata": {},
   "source": [
    "# Model Statistics"
   ]
  },
  {
   "cell_type": "markdown",
   "id": "e6efb41d",
   "metadata": {},
   "source": [
    "Get predicted class ids for each example"
   ]
  },
  {
   "cell_type": "code",
   "execution_count": 27,
   "id": "263bb2b6",
   "metadata": {},
   "outputs": [
    {
     "data": {
      "text/plain": [
       "array([ 4,  4, 11, 11, 12,  4, 11,  6, 11,  7,  5,  7,  9,  9,  0,  4,  9,\n",
       "        7,  4,  4, 10,  4, 11, 11,  4,  1, 10,  8, 11, 11,  7,  7, 12, 11,\n",
       "       12,  2,  2,  4, 11,  7,  9,  1,  2,  5, 11,  8,  7,  9, 11, 11,  7,\n",
       "        4,  7, 11,  1,  3,  2,  7, 11,  3, 11,  5, 11,  4, 11, 11, 11,  3,\n",
       "       11,  0,  4,  4,  4, 11, 11,  5,  7,  9,  1, 11, 12,  2,  4,  7,  1,\n",
       "        4,  1, 12,  4,  7,  4, 11,  5,  4,  4, 11, 11, 12,  4,  5,  1,  4,\n",
       "        7,  2, 11, 11, 11, 12,  5,  7, 11,  2,  3, 11,  5,  9,  1, 11,  9,\n",
       "        5,  7,  4,  4, 11,  2,  7, 11,  4, 10,  7,  4,  9, 11,  2,  9,  4,\n",
       "        7, 11,  2, 11, 11,  2,  4,  5, 11,  4,  7, 11, 11,  4,  7,  9,  9,\n",
       "        2,  7,  9, 11,  4, 11,  1,  4, 11,  3,  4,  7,  6,  7,  9,  7,  4,\n",
       "       11, 11, 11,  4,  7, 11, 11, 11,  6,  7, 11, 12,  4,  4, 11,  0,  9,\n",
       "       11, 11,  4,  2, 12, 11, 11, 11,  3,  7, 11,  1,  1,  4,  4, 12,  9,\n",
       "       11, 11,  1,  9,  7,  1,  4,  4,  4,  4,  2,  6,  7,  2,  7, 12, 11,\n",
       "        7,  7, 11, 12,  2,  1,  4,  4,  5,  2,  2,  9, 11,  2,  7,  9,  9,\n",
       "        7, 11,  7, 12, 11], dtype=int64)"
      ]
     },
     "execution_count": 27,
     "metadata": {},
     "output_type": "execute_result"
    }
   ],
   "source": [
    "# y_pred = np.argmax(i1_pred_label_probas, axis=1)\n",
    "y_pred = test_df_preds['i1_pred_label_id'].astype(np.int64).to_numpy()\n",
    "y_pred"
   ]
  },
  {
   "cell_type": "markdown",
   "id": "bf47d5b8",
   "metadata": {},
   "source": [
    "Get true class ids for each example"
   ]
  },
  {
   "cell_type": "code",
   "execution_count": 28,
   "id": "97d92c9d",
   "metadata": {},
   "outputs": [
    {
     "data": {
      "text/plain": [
       "array([ 4,  4, 11, 11, 12,  4, 11,  6, 11,  2,  8,  7,  9,  9,  0,  4,  7,\n",
       "        7,  4,  4,  4,  5, 11, 11,  4,  1, 10,  8, 11, 11,  7,  7, 12, 11,\n",
       "       12,  2,  2,  4, 11,  4,  9,  1,  2,  5, 11,  2,  7,  9, 11, 11,  2,\n",
       "        4,  7, 11,  1,  3,  9,  7, 11,  6, 11,  2, 11,  4, 11, 11, 11,  4,\n",
       "       11,  0,  2,  4,  4, 11, 11,  1,  7,  9,  1, 11, 12,  2,  4,  7,  1,\n",
       "        4,  8, 12,  4,  7, 12, 11,  2,  4,  4, 11, 11,  1,  4,  6,  1,  4,\n",
       "        6,  9, 11, 11, 11, 12,  3,  5, 11,  2,  5, 11,  5,  9,  1, 11,  9,\n",
       "        5,  7,  4,  4, 11,  2,  7, 11,  4,  5,  5,  4,  9, 11,  2,  2,  4,\n",
       "        9, 11,  2, 11, 11,  8,  7,  7, 11,  4,  7, 11, 11,  4,  7,  9,  5,\n",
       "        7,  7,  7, 11,  4, 11,  1,  4, 11,  3,  2,  7,  6,  7,  9,  7,  9,\n",
       "       11, 11, 11,  4,  7, 11, 11, 11,  4,  7, 11, 12,  4,  4, 11,  0,  4,\n",
       "       11, 11,  4,  2, 12, 11, 11, 11,  3,  7, 11,  1,  1,  4,  4,  5,  9,\n",
       "       11, 11,  1,  2,  7,  1,  4,  4,  2,  4,  4,  6,  7,  5,  7, 12, 11,\n",
       "        7,  7, 11, 12, 10,  1,  4,  4, 10,  2,  2,  9, 11,  6,  7,  9,  2,\n",
       "        7, 11,  7, 12, 11], dtype=int64)"
      ]
     },
     "execution_count": 28,
     "metadata": {},
     "output_type": "execute_result"
    }
   ],
   "source": [
    "y_true = test_df_preds['i1_true_label_id'].astype(np.int64).to_numpy()\n",
    "y_true"
   ]
  },
  {
   "cell_type": "markdown",
   "id": "bed87f16",
   "metadata": {},
   "source": [
    "Classification Report"
   ]
  },
  {
   "cell_type": "code",
   "execution_count": 29,
   "id": "3d0880a7",
   "metadata": {},
   "outputs": [
    {
     "name": "stdout",
     "output_type": "stream",
     "text": [
      "--- Classification Report ---\n",
      "              precision    recall  f1-score   support\n",
      "\n",
      "    Exchange       1.00      1.00      1.00         3\n",
      "      PK Abo       0.93      0.87      0.90        15\n",
      "    PK Artur       0.58      0.50      0.54        22\n",
      "    PK Kasia       0.50      0.75      0.60         4\n",
      "    PK Leben       0.85      0.87      0.86        45\n",
      "     PK Maja       0.27      0.27      0.27        11\n",
      "    PK Medic       0.75      0.43      0.55         7\n",
      "   PK Reisen       0.81      0.85      0.83        34\n",
      "     PK Rest       0.50      0.25      0.33         4\n",
      "   SK Ferien       0.65      0.76      0.70        17\n",
      " SK Haushalt       0.33      0.33      0.33         3\n",
      "      Top-Up       1.00      1.00      1.00        66\n",
      "       eShop       0.85      0.92      0.88        12\n",
      "\n",
      "    accuracy                           0.81       243\n",
      "   macro avg       0.69      0.68      0.68       243\n",
      "weighted avg       0.81      0.81      0.80       243\n",
      "\n"
     ]
    }
   ],
   "source": [
    "print(\"--- Classification Report ---\")\n",
    "print(classification_report(y_true, y_pred,target_names=class_names))"
   ]
  },
  {
   "cell_type": "markdown",
   "id": "c1518d10",
   "metadata": {},
   "source": [
    "Confusion Matrix"
   ]
  },
  {
   "cell_type": "code",
   "execution_count": 30,
   "id": "c3f396dc",
   "metadata": {},
   "outputs": [
    {
     "name": "stdout",
     "output_type": "stream",
     "text": [
      "\n",
      "--- Confusion Matrix ---\n"
     ]
    },
    {
     "data": {
      "image/png": "[encoded data removed]",
      "text/plain": [
       "<Figure size 1200x1000 with 2 Axes>"
      ]
     },
     "metadata": {},
     "output_type": "display_data"
    }
   ],
   "source": [
    "print(\"\\n--- Confusion Matrix ---\")\n",
    "cm = confusion_matrix(y_true, y_pred)\n",
    "\n",
    "plt.figure(figsize=(12, 10))\n",
    "sns.heatmap(cm,\n",
    "            annot=True,\n",
    "            fmt='g',\n",
    "            cmap='Blues',\n",
    "            xticklabels=class_names,\n",
    "            yticklabels=class_names)\n",
    "\n",
    "plt.xlabel('Predicted Label', fontsize=13)\n",
    "plt.ylabel('True Label', fontsize=13)\n",
    "plt.title('Confusion Matrix', fontsize=15)\n",
    "plt.show()"
   ]
  },
  {
   "cell_type": "markdown",
   "id": "e63a782a",
   "metadata": {},
   "source": [
    "# Debug deta for the model with Google Facets"
   ]
  },
  {
   "cell_type": "markdown",
   "id": "b93a566d",
   "metadata": {},
   "source": [
    "Prepare data"
   ]
  },
  {
   "cell_type": "code",
   "execution_count": 31,
   "id": "ae9610ea",
   "metadata": {},
   "outputs": [
    {
     "name": "stdout",
     "output_type": "stream",
     "text": [
      "Cleaning data types for all DataFrames...\n",
      "Cleaning complete.\n"
     ]
    }
   ],
   "source": [
    "def prepare_df_for_libraries(df: pd.DataFrame) -> pd.DataFrame:\n",
    "    \"\"\"Converts special pandas dtypes to standard numpy dtypes.\"\"\"\n",
    "    df_copy = df.copy()\n",
    "    for col in df_copy.columns:\n",
    "        # Check for the nullable integer type\n",
    "        if isinstance(df_copy[col].dtype, pd.Int64Dtype):\n",
    "            print(f\"Converting column '{col}' from nullable Int64 to standard int64.\")\n",
    "            # We must handle potential missing values (NaN) before converting to a standard integer.\n",
    "            # Here, we'll fill any missing values with 0.\n",
    "            df_copy[col] = df_copy[col].fillna(0).astype(np.int64)\n",
    "    return df_copy\n",
    "print(\"Cleaning data types for all DataFrames...\")\n",
    "train_df_clean = prepare_df_for_libraries(train_df[['amount', 'started_day_sin', 'started_day_cos', 'type']])\n",
    "val_df_clean = prepare_df_for_libraries(val_df[['amount', 'started_day_sin', 'started_day_cos', 'type']])\n",
    "test_df_clean = prepare_df_for_libraries(test_df[['amount', 'started_day_sin', 'started_day_cos', 'type']])\n",
    "print(\"Cleaning complete.\")\n"
   ]
  },
  {
   "cell_type": "markdown",
   "id": "d1c5470b",
   "metadata": {},
   "source": [
    "Show visualization"
   ]
  },
  {
   "cell_type": "code",
   "execution_count": 32,
   "id": "c05d7ab9",
   "metadata": {},
   "outputs": [
    {
     "name": "stdout",
     "output_type": "stream",
     "text": [
      "Calculating statistics for Facets Overview...\n",
      "Calculation complete.\n",
      "Generating HTML visualization...\n",
      "\n",
      "Displaying Facets Overview:\n"
     ]
    },
    {
     "name": "stderr",
     "output_type": "stream",
     "text": [
      "C:\\Users\\admin\\AppData\\Local\\Temp\\ipykernel_16280\\1923328456.py:4: DeprecationWarning: Importing display from IPython.core.display is deprecated since IPython 7.14, please import from IPython display\n",
      "  from IPython.core.display import display, HTML\n"
     ]
    },
    {
     "data": {
      "text/html": [
       "\n",
       "    <script src=\"https://cdnjs.cloudflare.com/ajax/libs/webcomponentsjs/1.3.3/webcomponents-lite.js\"></script>\n",
       "    <link rel=\"import\" href=\"https://raw.githubusercontent.com/PAIR-code/facets/1.0.0/facets-dist/facets-jupyter.html\">\n",
       "    <facets-overview id=\"elem\"></facets-overview>\n",
       "    <script>\n",
       "        document.querySelector(\"#elem\").protoInput = \"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\";\n",
       "    </script>\n"
      ],
      "text/plain": [
       "<IPython.core.display.HTML object>"
      ]
     },
     "metadata": {},
     "output_type": "display_data"
    }
   ],
   "source": [
    "from facets_overview.generic_feature_statistics_generator import GenericFeatureStatisticsGenerator\n",
    "import base64 \n",
    "\n",
    "from IPython.core.display import display, HTML\n",
    "data_for_facets = [\n",
    "    {'name': 'TRAINING DATA', 'table': train_df_clean},\n",
    "    {'name': 'VALIDATION DATA', 'table': val_df_clean},\n",
    "    {'name': 'TEST DATA', 'table': test_df_clean}\n",
    "]\n",
    "\n",
    "\n",
    "print(\"Calculating statistics for Facets Overview...\")\n",
    "gfsg = GenericFeatureStatisticsGenerator()\n",
    "proto = gfsg.ProtoFromDataFrames(data_for_facets)\n",
    "print(\"Calculation complete.\")\n",
    "\n",
    "print(\"Generating HTML visualization...\")\n",
    "# Serialize the proto data into a binary string\n",
    "proto_str = proto.SerializeToString()\n",
    "\n",
    "# Encode the binary string into a web-safe base64 string\n",
    "# This is the standard way to embed data in HTML\n",
    "protostr_encoded = base64.b64encode(proto_str).decode('utf-8')\n",
    "\n",
    "# Define an HTML template for the Facets visualization iframe\n",
    "# We will inject our encoded data string directly into this template\n",
    "HTML_TEMPLATE = \"\"\"\n",
    "    <script src=\"https://cdnjs.cloudflare.com/ajax/libs/webcomponentsjs/1.3.3/webcomponents-lite.js\"></script>\n",
    "    <link rel=\"import\" href=\"https://raw.githubusercontent.com/PAIR-code/facets/1.0.0/facets-dist/facets-jupyter.html\">\n",
    "    <facets-overview id=\"elem\"></facets-overview>\n",
    "    <script>\n",
    "        document.querySelector(\"#elem\").protoInput = \"{protostr_encoded}\";\n",
    "    </script>\n",
    "\"\"\"\n",
    "\n",
    "# Format the template with our encoded data\n",
    "html_output = HTML_TEMPLATE.format(protostr_encoded=protostr_encoded)\n",
    "\n",
    "\n",
    "# --- Step 4: Display the interactive visualization in your notebook ---\n",
    "print(\"\\nDisplaying Facets Overview:\")\n",
    "display(HTML(html_output))\n"
   ]
  }
 ],
 "metadata": {
  "kernelspec": {
   "display_name": "tf2121_py39",
   "language": "python",
   "name": "python3"
  },
  "language_info": {
   "codemirror_mode": {
    "name": "ipython",
    "version": 3
   },
   "file_extension": ".py",
   "mimetype": "text/x-python",
   "name": "python",
   "nbconvert_exporter": "python",
   "pygments_lexer": "ipython3",
   "version": "3.9.23"
  }
 },
 "nbformat": 4,
 "nbformat_minor": 5
}
