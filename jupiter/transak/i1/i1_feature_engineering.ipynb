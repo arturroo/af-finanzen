{
 "cells": [
  {
   "cell_type": "markdown",
   "id": "983af335",
   "metadata": {},
   "source": [
    "## Iteration1 Feature Engineering with TensorFlow\n",
    "\n",
    "# Plan na bazie MLE4.3.(5,6,7,8,9)\n",
    "1. Floats change into categorical bins (MLE 4.3.1) - quntiles with same number of examples per bin? \n",
    "2. "
   ]
  },
  {
   "cell_type": "markdown",
   "id": "7c9c9431",
   "metadata": {},
   "source": [
    "# Development"
   ]
  },
  {
   "cell_type": "markdown",
   "id": "4a14462f",
   "metadata": {},
   "source": [
    "## Imports"
   ]
  },
  {
   "cell_type": "code",
   "execution_count": null,
   "id": "730fa8ad",
   "metadata": {},
   "outputs": [
    {
     "name": "stdout",
     "output_type": "stream",
     "text": [
      "BigQuery client library version: 3.34.0\n",
      "Tensorflow version: 2.18.1\n",
      "Pandas version: 2.2.3\n"
     ]
    }
   ],
   "source": [
    "import pandas as pd\n",
    "from google.cloud import bigquery\n",
    "import tensorflow as tf\n",
    "from tensorflow.keras import layers\n",
    "from sklearn.model_selection import train_test_split\n",
    "\n",
    "print(f\"BigQuery client library version: {bigquery.__version__}\")\n",
    "print(f\"Tensorflow version: {tf.__version__}\")\n",
    "print(f\"Pandas version: {pd.__version__}\")\n"
   ]
  },
  {
   "cell_type": "markdown",
   "id": "64c1ed39",
   "metadata": {},
   "source": [
    "## Data load"
   ]
  },
  {
   "cell_type": "code",
   "execution_count": null,
   "id": "3654d546",
   "metadata": {},
   "outputs": [],
   "source": [
    "bq = bigquery.Client(project=\"af-finanzen\")\n",
    "query = \"\"\"SELECT\n",
    "      type\n",
    "    , started\n",
    "    , description\n",
    "    , amount\n",
    "    , fee\n",
    "    , currency\n",
    "    , state\n",
    "    , account\n",
    "    , month\n",
    "    , CASE\n",
    "      WHEN i1_true_label = 'PK Prezenty' THEN 'PK Rest'\n",
    "      WHEN i1_true_label = 'Apt' THEN 'PK Kasia'\n",
    "      ELSE i1_true_label\n",
    "      END AS i1_true_label\n",
    "FROM `af-finanzen.monatsabschluss.revolut_abrechnung`\n",
    "\"\"\"\n",
    "df = bq.query(query).to_dataframe()"
   ]
  },
  {
   "cell_type": "markdown",
   "id": "489193a9",
   "metadata": {},
   "source": [
    "# Train, test, validation split"
   ]
  },
  {
   "cell_type": "code",
   "execution_count": null,
   "id": "f47a7749",
   "metadata": {},
   "outputs": [],
   "source": [
    "train, test = train_test_split(df, train_size=0.75)\n",
    "train, val = "
   ]
  }
 ],
 "metadata": {
  "kernelspec": {
   "display_name": "Python 3",
   "language": "python",
   "name": "python3"
  },
  "language_info": {
   "codemirror_mode": {
    "name": "ipython",
    "version": 3
   },
   "file_extension": ".py",
   "mimetype": "text/x-python",
   "name": "python",
   "nbconvert_exporter": "python",
   "pygments_lexer": "ipython3",
   "version": "3.11.11"
  }
 },
 "nbformat": 4,
 "nbformat_minor": 5
}
