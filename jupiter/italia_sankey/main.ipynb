{
 "cells": [
  {
   "cell_type": "code",
   "execution_count": 88,
   "metadata": {},
   "outputs": [],
   "source": [
    "import matplotlib.pyplot as plt\n",
    "from matplotlib.sankey import Sankey\n"
   ]
  },
  {
   "cell_type": "code",
   "execution_count": 138,
   "metadata": {},
   "outputs": [
    {
     "data": {
      "text/plain": [
       "-500"
      ]
     },
     "execution_count": 138,
     "metadata": {},
     "output_type": "execute_result"
    }
   ],
   "source": [
    "out_wlochy_plan = {\n",
    "    'Transfer Winti-Milan-Piacenza': -70\n",
    "    , 'Milan parking': -10\n",
    "    , 'Milan pamiatki': -60\n",
    "    , 'Milan obiad dla wszystkich': -5*25\n",
    "    #, 'Milan lodzik': -50\n",
    "    , 'Milan lodzik': -235\n",
    "}\n",
    "out_wlochy_plan_suma = sum(list(out_wlochy_plan.values()))\n",
    "out_wlochy_plan_suma"
   ]
  },
  {
   "cell_type": "code",
   "execution_count": 139,
   "metadata": {},
   "outputs": [
    {
     "data": {
      "text/plain": [
       "-1428"
      ]
     },
     "execution_count": 139,
     "metadata": {},
     "output_type": "execute_result"
    }
   ],
   "source": [
    "out_wlochy_done = {\n",
    "    'Hotel Wieden do CH': -260\n",
    "    , 'Hotel Wieden do PL': -222\n",
    "    , 'Hotel Ovest Piacenza': -946\n",
    "}\n",
    "out_wlochy_done_suma = sum(list(out_wlochy_done.values()))\n",
    "out_wlochy_done_suma"
   ]
  },
  {
   "cell_type": "code",
   "execution_count": 140,
   "metadata": {},
   "outputs": [],
   "source": [
    "out_wlochy_values = [abs(out_wlochy_plan_suma + out_wlochy_done_suma)] + list(out_wlochy_plan.values()) + list(out_wlochy_done.values())\n",
    "out_wlochy_labels = ['Wlochy in'] + list(out_wlochy_plan.keys()) + list(out_wlochy_done.keys())"
   ]
  },
  {
   "cell_type": "code",
   "execution_count": 141,
   "metadata": {},
   "outputs": [
    {
     "data": {
      "text/plain": [
       "{'Artur Sycylia in': 2500,\n",
       " 'Artur Wlochy - plan': -250,\n",
       " 'Hotel Ovest Piacenza': -473,\n",
       " 'Hotel Wieden do PL': -222,\n",
       " 'Maja Schule': -1555}"
      ]
     },
     "execution_count": 141,
     "metadata": {},
     "output_type": "execute_result"
    }
   ],
   "source": [
    "artur = {\n",
    "    'Artur Sycylia in': 2500\n",
    "    , 'Artur Wlochy - plan': int(out_wlochy_plan_suma / 2)\n",
    "    , 'Hotel Ovest Piacenza': int(out_wlochy_done['Hotel Ovest Piacenza'] / 2)\n",
    "    , 'Hotel Wieden do PL': out_wlochy_done['Hotel Wieden do PL']\n",
    "    , 'Maja Schule': -2500 - int(out_wlochy_plan_suma / 2) - int(out_wlochy_done['Hotel Ovest Piacenza'] / 2) - out_wlochy_done['Hotel Wieden do PL']\n",
    "}\n",
    "artur_values = list(artur.values())\n",
    "artur_labels = list(artur.keys())\n",
    "artur_orientations = [0, 0, 0, 0, 0]\n",
    "\n",
    "artur"
   ]
  },
  {
   "cell_type": "code",
   "execution_count": 142,
   "metadata": {},
   "outputs": [
    {
     "data": {
      "text/plain": [
       "{'Kasia Wlochy in': 983,\n",
       " 'Kasia Włochy - plan': -250,\n",
       " 'Hotel Wieden do CH': -260,\n",
       " 'Hotel Ovest Piacenza': -473}"
      ]
     },
     "execution_count": 142,
     "metadata": {},
     "output_type": "execute_result"
    }
   ],
   "source": [
    "kasia = {\n",
    "    'Kasia Wlochy in': abs(int(out_wlochy_plan_suma / 2) + out_wlochy_done['Hotel Wieden do CH'] + int(out_wlochy_done['Hotel Ovest Piacenza'] / 2))\n",
    "    , 'Kasia Włochy - plan': int(out_wlochy_plan_suma / 2)\n",
    "    , 'Hotel Wieden do CH': out_wlochy_done['Hotel Wieden do CH']\n",
    "    , 'Hotel Ovest Piacenza': int(out_wlochy_done['Hotel Ovest Piacenza'] / 2)\n",
    "}\n",
    "kasia"
   ]
  },
  {
   "cell_type": "code",
   "execution_count": 145,
   "metadata": {},
   "outputs": [
    {
     "data": {
      "text/plain": [
       "{'Maja in': 1555}"
      ]
     },
     "execution_count": 145,
     "metadata": {},
     "output_type": "execute_result"
    }
   ],
   "source": [
    "maja = {\n",
    "    'Maja in': abs(artur['Maja Schule'])\n",
    "    \n",
    "}\n",
    "maja"
   ]
  },
  {
   "cell_type": "code",
   "execution_count": 134,
   "metadata": {},
   "outputs": [
    {
     "ename": "ValueError",
     "evalue": "The scaled sum of the connected flows is 2, which is not within the tolerance (1e-06)",
     "output_type": "error",
     "traceback": [
      "\u001b[1;31m---------------------------------------------------------------------------\u001b[0m",
      "\u001b[1;31mValueError\u001b[0m                                Traceback (most recent call last)",
      "Cell \u001b[1;32mIn[134], line 10\u001b[0m\n\u001b[0;32m      1\u001b[0m sankey \u001b[38;5;241m=\u001b[39m Sankey()\n\u001b[0;32m      2\u001b[0m sankey\u001b[38;5;241m.\u001b[39madd(flows\u001b[38;5;241m=\u001b[39m[\u001b[38;5;241m-\u001b[39m\u001b[38;5;241m1\u001b[39m, \u001b[38;5;241m-\u001b[39m\u001b[38;5;241m2\u001b[39m, \u001b[38;5;241m3\u001b[39m]\n\u001b[0;32m      3\u001b[0m            , orientations\u001b[38;5;241m=\u001b[39m[\u001b[38;5;241m0\u001b[39m,\u001b[38;5;241m0\u001b[39m,\u001b[38;5;241m0\u001b[39m]\n\u001b[0;32m      4\u001b[0m            , labels\u001b[38;5;241m=\u001b[39m[\u001b[38;5;124m'\u001b[39m\u001b[38;5;124mA\u001b[39m\u001b[38;5;124m'\u001b[39m, \u001b[38;5;124m'\u001b[39m\u001b[38;5;124mB\u001b[39m\u001b[38;5;124m'\u001b[39m, \u001b[38;5;124m'\u001b[39m\u001b[38;5;124mC\u001b[39m\u001b[38;5;124m'\u001b[39m]\n\u001b[1;32m   (...)\u001b[0m\n\u001b[0;32m      8\u001b[0m            \u001b[38;5;66;03m#, patchlabel='artur'\u001b[39;00m\n\u001b[0;32m      9\u001b[0m            )\n\u001b[1;32m---> 10\u001b[0m sankey\u001b[38;5;241m.\u001b[39madd(flows\u001b[38;5;241m=\u001b[39m[\u001b[38;5;241m3\u001b[39m, \u001b[38;5;241m-\u001b[39m\u001b[38;5;241m1\u001b[39m, \u001b[38;5;241m-\u001b[39m\u001b[38;5;241m1\u001b[39m, \u001b[38;5;241m-\u001b[39m\u001b[38;5;241m1\u001b[39m]\n\u001b[0;32m     11\u001b[0m            , orientations\u001b[38;5;241m=\u001b[39m[\u001b[38;5;241m0\u001b[39m, \u001b[38;5;241m0\u001b[39m, \u001b[38;5;241m1\u001b[39m, \u001b[38;5;241m-\u001b[39m\u001b[38;5;241m1\u001b[39m]\n\u001b[0;32m     12\u001b[0m            , labels\u001b[38;5;241m=\u001b[39m[\u001b[38;5;124m'\u001b[39m\u001b[38;5;124mCC\u001b[39m\u001b[38;5;124m'\u001b[39m, \u001b[38;5;124m'\u001b[39m\u001b[38;5;124mx\u001b[39m\u001b[38;5;124m'\u001b[39m, \u001b[38;5;124m'\u001b[39m\u001b[38;5;124my\u001b[39m\u001b[38;5;124m'\u001b[39m, \u001b[38;5;124m'\u001b[39m\u001b[38;5;124mz\u001b[39m\u001b[38;5;124m'\u001b[39m]\n\u001b[0;32m     13\u001b[0m            \u001b[38;5;66;03m# rotation=-90\u001b[39;00m\n\u001b[0;32m     14\u001b[0m            \u001b[38;5;66;03m# , trunklength=1500\u001b[39;00m\n\u001b[0;32m     15\u001b[0m            \u001b[38;5;66;03m# pathlengths=[0, 200, 50, 0],\u001b[39;00m\n\u001b[0;32m     16\u001b[0m            \u001b[38;5;66;03m#patchlabel='Italia'\u001b[39;00m\n\u001b[0;32m     17\u001b[0m            , prior\u001b[38;5;241m=\u001b[39m\u001b[38;5;241m0\u001b[39m\n\u001b[0;32m     18\u001b[0m            \u001b[38;5;66;03m#, connect=(2, 0)\u001b[39;00m\n\u001b[0;32m     19\u001b[0m            )\n\u001b[0;32m     20\u001b[0m sankey\u001b[38;5;241m.\u001b[39mfinish()\n",
      "File \u001b[1;32mc:\\Users\\admin\\.conda\\envs\\af-finanzen\\Lib\\site-packages\\matplotlib\\sankey.py:498\u001b[0m, in \u001b[0;36mSankey.add\u001b[1;34m(self, patchlabel, flows, orientations, labels, trunklength, pathlengths, prior, connect, rotation, **kwargs)\u001b[0m\n\u001b[0;32m    495\u001b[0m     flow_error \u001b[38;5;241m=\u001b[39m (\u001b[38;5;28mself\u001b[39m\u001b[38;5;241m.\u001b[39mdiagrams[prior]\u001b[38;5;241m.\u001b[39mflows[connect[\u001b[38;5;241m0\u001b[39m]] \u001b[38;5;241m+\u001b[39m\n\u001b[0;32m    496\u001b[0m                   flows[connect[\u001b[38;5;241m1\u001b[39m]])\n\u001b[0;32m    497\u001b[0m     \u001b[38;5;28;01mif\u001b[39;00m \u001b[38;5;28mabs\u001b[39m(flow_error) \u001b[38;5;241m>\u001b[39m\u001b[38;5;241m=\u001b[39m \u001b[38;5;28mself\u001b[39m\u001b[38;5;241m.\u001b[39mtolerance:\n\u001b[1;32m--> 498\u001b[0m         \u001b[38;5;28;01mraise\u001b[39;00m \u001b[38;5;167;01mValueError\u001b[39;00m(\n\u001b[0;32m    499\u001b[0m             \u001b[38;5;124mf\u001b[39m\u001b[38;5;124m\"\u001b[39m\u001b[38;5;124mThe scaled sum of the connected flows is \u001b[39m\u001b[38;5;132;01m{\u001b[39;00mflow_error\u001b[38;5;132;01m}\u001b[39;00m\u001b[38;5;124m, \u001b[39m\u001b[38;5;124m\"\u001b[39m\n\u001b[0;32m    500\u001b[0m             \u001b[38;5;124mf\u001b[39m\u001b[38;5;124m\"\u001b[39m\u001b[38;5;124mwhich is not within the tolerance (\u001b[39m\u001b[38;5;132;01m{\u001b[39;00m\u001b[38;5;28mself\u001b[39m\u001b[38;5;241m.\u001b[39mtolerance\u001b[38;5;132;01m}\u001b[39;00m\u001b[38;5;124m)\u001b[39m\u001b[38;5;124m\"\u001b[39m)\n\u001b[0;32m    502\u001b[0m \u001b[38;5;66;03m# Determine if the flows are inputs.\u001b[39;00m\n\u001b[0;32m    503\u001b[0m are_inputs \u001b[38;5;241m=\u001b[39m [\u001b[38;5;28;01mNone\u001b[39;00m] \u001b[38;5;241m*\u001b[39m n\n",
      "\u001b[1;31mValueError\u001b[0m: The scaled sum of the connected flows is 2, which is not within the tolerance (1e-06)"
     ]
    },
    {
     "data": {
      "image/png": "[encoded data removed]",
      "text/plain": [
       "<Figure size 640x480 with 1 Axes>"
      ]
     },
     "metadata": {},
     "output_type": "display_data"
    }
   ],
   "source": [
    "input_flows = [kasia['Kasia Wlochy in'], artur['Artur Sycylia in']]\n",
    "sankey = Sankey()\n",
    "sankey.add(flows=[-1, -2, 3]\n",
    "           , orientations=[0,0,0]\n",
    "           , labels=['A', 'B', 'C']\n",
    "           #, rotation=-90\n",
    "           , trunklength=5\n",
    "           #, pathlengths=[0, 200, 50, 0]\n",
    "           #, patchlabel='artur'\n",
    "           )\n",
    "# sankey.add(flows=[3, -1, -1, -1]\n",
    "#            , orientations=[0, 0, 1, -1]\n",
    "#            , labels=['CC', 'x', 'y', 'z']\n",
    "#            # rotation=-90\n",
    "#            # , trunklength=1500\n",
    "#            # pathlengths=[0, 200, 50, 0],\n",
    "#            #patchlabel='Italia'\n",
    "#            , prior=0\n",
    "#            #, connect=(2, 0)\n",
    "#            )\n",
    "sankey.finish()\n",
    "\n"
   ]
  },
  {
   "cell_type": "code",
   "execution_count": 125,
   "metadata": {},
   "outputs": [
    {
     "ename": "ValueError",
     "evalue": "The scaled sum of the connected flows is 523, which is not within the tolerance (1e-06)",
     "output_type": "error",
     "traceback": [
      "\u001b[1;31m---------------------------------------------------------------------------\u001b[0m",
      "\u001b[1;31mValueError\u001b[0m                                Traceback (most recent call last)",
      "Cell \u001b[1;32mIn[125], line 15\u001b[0m\n\u001b[0;32m      6\u001b[0m sankey \u001b[38;5;241m=\u001b[39m Sankey()\n\u001b[0;32m      7\u001b[0m sankey\u001b[38;5;241m.\u001b[39madd(flows\u001b[38;5;241m=\u001b[39martur_values\n\u001b[0;32m      8\u001b[0m            , orientations\u001b[38;5;241m=\u001b[39martur_orientations\n\u001b[0;32m      9\u001b[0m            , labels\u001b[38;5;241m=\u001b[39martur_labels\n\u001b[1;32m   (...)\u001b[0m\n\u001b[0;32m     13\u001b[0m            \u001b[38;5;66;03m#, patchlabel='artur'\u001b[39;00m\n\u001b[0;32m     14\u001b[0m            )\n\u001b[1;32m---> 15\u001b[0m sankey\u001b[38;5;241m.\u001b[39madd(flows\u001b[38;5;241m=\u001b[39mout_wlochy_values\n\u001b[0;32m     16\u001b[0m            , orientations\u001b[38;5;241m=\u001b[39m[\u001b[38;5;241m0\u001b[39m, \u001b[38;5;241m1\u001b[39m, \u001b[38;5;241m1\u001b[39m, \u001b[38;5;241m1\u001b[39m, \u001b[38;5;241m1\u001b[39m, \u001b[38;5;241m1\u001b[39m, \u001b[38;5;241m1\u001b[39m, \u001b[38;5;241m1\u001b[39m, \u001b[38;5;241m0\u001b[39m]\n\u001b[0;32m     17\u001b[0m            , labels\u001b[38;5;241m=\u001b[39mout_wlochy_labels\n\u001b[0;32m     18\u001b[0m            \u001b[38;5;66;03m# rotation=-90\u001b[39;00m\n\u001b[0;32m     19\u001b[0m            \u001b[38;5;66;03m# , trunklength=1500\u001b[39;00m\n\u001b[0;32m     20\u001b[0m            \u001b[38;5;66;03m# pathlengths=[0, 200, 50, 0],\u001b[39;00m\n\u001b[0;32m     21\u001b[0m            \u001b[38;5;66;03m#patchlabel='Italia'\u001b[39;00m\n\u001b[0;32m     22\u001b[0m            , prior\u001b[38;5;241m=\u001b[39m\u001b[38;5;241m0\u001b[39m\n\u001b[0;32m     23\u001b[0m            , connect\u001b[38;5;241m=\u001b[39m(\u001b[38;5;241m4\u001b[39m, \u001b[38;5;241m0\u001b[39m)\n\u001b[0;32m     24\u001b[0m            )\n\u001b[0;32m     25\u001b[0m sankey\u001b[38;5;241m.\u001b[39mfinish()\n",
      "File \u001b[1;32mc:\\Users\\admin\\.conda\\envs\\af-finanzen\\Lib\\site-packages\\matplotlib\\sankey.py:498\u001b[0m, in \u001b[0;36mSankey.add\u001b[1;34m(self, patchlabel, flows, orientations, labels, trunklength, pathlengths, prior, connect, rotation, **kwargs)\u001b[0m\n\u001b[0;32m    495\u001b[0m     flow_error \u001b[38;5;241m=\u001b[39m (\u001b[38;5;28mself\u001b[39m\u001b[38;5;241m.\u001b[39mdiagrams[prior]\u001b[38;5;241m.\u001b[39mflows[connect[\u001b[38;5;241m0\u001b[39m]] \u001b[38;5;241m+\u001b[39m\n\u001b[0;32m    496\u001b[0m                   flows[connect[\u001b[38;5;241m1\u001b[39m]])\n\u001b[0;32m    497\u001b[0m     \u001b[38;5;28;01mif\u001b[39;00m \u001b[38;5;28mabs\u001b[39m(flow_error) \u001b[38;5;241m>\u001b[39m\u001b[38;5;241m=\u001b[39m \u001b[38;5;28mself\u001b[39m\u001b[38;5;241m.\u001b[39mtolerance:\n\u001b[1;32m--> 498\u001b[0m         \u001b[38;5;28;01mraise\u001b[39;00m \u001b[38;5;167;01mValueError\u001b[39;00m(\n\u001b[0;32m    499\u001b[0m             \u001b[38;5;124mf\u001b[39m\u001b[38;5;124m\"\u001b[39m\u001b[38;5;124mThe scaled sum of the connected flows is \u001b[39m\u001b[38;5;132;01m{\u001b[39;00mflow_error\u001b[38;5;132;01m}\u001b[39;00m\u001b[38;5;124m, \u001b[39m\u001b[38;5;124m\"\u001b[39m\n\u001b[0;32m    500\u001b[0m             \u001b[38;5;124mf\u001b[39m\u001b[38;5;124m\"\u001b[39m\u001b[38;5;124mwhich is not within the tolerance (\u001b[39m\u001b[38;5;132;01m{\u001b[39;00m\u001b[38;5;28mself\u001b[39m\u001b[38;5;241m.\u001b[39mtolerance\u001b[38;5;132;01m}\u001b[39;00m\u001b[38;5;124m)\u001b[39m\u001b[38;5;124m\"\u001b[39m)\n\u001b[0;32m    502\u001b[0m \u001b[38;5;66;03m# Determine if the flows are inputs.\u001b[39;00m\n\u001b[0;32m    503\u001b[0m are_inputs \u001b[38;5;241m=\u001b[39m [\u001b[38;5;28;01mNone\u001b[39;00m] \u001b[38;5;241m*\u001b[39m n\n",
      "\u001b[1;31mValueError\u001b[0m: The scaled sum of the connected flows is 523, which is not within the tolerance (1e-06)"
     ]
    },
    {
     "ename": "ValueError",
     "evalue": "Image size of 684838x590486 pixels is too large. It must be less than 2^16 in each direction.",
     "output_type": "error",
     "traceback": [
      "\u001b[1;31m---------------------------------------------------------------------------\u001b[0m",
      "\u001b[1;31mValueError\u001b[0m                                Traceback (most recent call last)",
      "File \u001b[1;32mc:\\Users\\admin\\.conda\\envs\\af-finanzen\\Lib\\site-packages\\IPython\\core\\formatters.py:340\u001b[0m, in \u001b[0;36mBaseFormatter.__call__\u001b[1;34m(self, obj)\u001b[0m\n\u001b[0;32m    338\u001b[0m     \u001b[38;5;28;01mpass\u001b[39;00m\n\u001b[0;32m    339\u001b[0m \u001b[38;5;28;01melse\u001b[39;00m:\n\u001b[1;32m--> 340\u001b[0m     \u001b[38;5;28;01mreturn\u001b[39;00m printer(obj)\n\u001b[0;32m    341\u001b[0m \u001b[38;5;66;03m# Finally look for special method names\u001b[39;00m\n\u001b[0;32m    342\u001b[0m method \u001b[38;5;241m=\u001b[39m get_real_method(obj, \u001b[38;5;28mself\u001b[39m\u001b[38;5;241m.\u001b[39mprint_method)\n",
      "File \u001b[1;32mc:\\Users\\admin\\.conda\\envs\\af-finanzen\\Lib\\site-packages\\IPython\\core\\pylabtools.py:152\u001b[0m, in \u001b[0;36mprint_figure\u001b[1;34m(fig, fmt, bbox_inches, base64, **kwargs)\u001b[0m\n\u001b[0;32m    149\u001b[0m     \u001b[38;5;28;01mfrom\u001b[39;00m \u001b[38;5;21;01mmatplotlib\u001b[39;00m\u001b[38;5;21;01m.\u001b[39;00m\u001b[38;5;21;01mbackend_bases\u001b[39;00m \u001b[38;5;28;01mimport\u001b[39;00m FigureCanvasBase\n\u001b[0;32m    150\u001b[0m     FigureCanvasBase(fig)\n\u001b[1;32m--> 152\u001b[0m fig\u001b[38;5;241m.\u001b[39mcanvas\u001b[38;5;241m.\u001b[39mprint_figure(bytes_io, \u001b[38;5;241m*\u001b[39m\u001b[38;5;241m*\u001b[39mkw)\n\u001b[0;32m    153\u001b[0m data \u001b[38;5;241m=\u001b[39m bytes_io\u001b[38;5;241m.\u001b[39mgetvalue()\n\u001b[0;32m    154\u001b[0m \u001b[38;5;28;01mif\u001b[39;00m fmt \u001b[38;5;241m==\u001b[39m \u001b[38;5;124m'\u001b[39m\u001b[38;5;124msvg\u001b[39m\u001b[38;5;124m'\u001b[39m:\n",
      "File \u001b[1;32mc:\\Users\\admin\\.conda\\envs\\af-finanzen\\Lib\\site-packages\\matplotlib\\backend_bases.py:2187\u001b[0m, in \u001b[0;36mFigureCanvasBase.print_figure\u001b[1;34m(self, filename, dpi, facecolor, edgecolor, orientation, format, bbox_inches, pad_inches, bbox_extra_artists, backend, **kwargs)\u001b[0m\n\u001b[0;32m   2183\u001b[0m \u001b[38;5;28;01mtry\u001b[39;00m:\n\u001b[0;32m   2184\u001b[0m     \u001b[38;5;66;03m# _get_renderer may change the figure dpi (as vector formats\u001b[39;00m\n\u001b[0;32m   2185\u001b[0m     \u001b[38;5;66;03m# force the figure dpi to 72), so we need to set it again here.\u001b[39;00m\n\u001b[0;32m   2186\u001b[0m     \u001b[38;5;28;01mwith\u001b[39;00m cbook\u001b[38;5;241m.\u001b[39m_setattr_cm(\u001b[38;5;28mself\u001b[39m\u001b[38;5;241m.\u001b[39mfigure, dpi\u001b[38;5;241m=\u001b[39mdpi):\n\u001b[1;32m-> 2187\u001b[0m         result \u001b[38;5;241m=\u001b[39m print_method(\n\u001b[0;32m   2188\u001b[0m             filename,\n\u001b[0;32m   2189\u001b[0m             facecolor\u001b[38;5;241m=\u001b[39mfacecolor,\n\u001b[0;32m   2190\u001b[0m             edgecolor\u001b[38;5;241m=\u001b[39medgecolor,\n\u001b[0;32m   2191\u001b[0m             orientation\u001b[38;5;241m=\u001b[39morientation,\n\u001b[0;32m   2192\u001b[0m             bbox_inches_restore\u001b[38;5;241m=\u001b[39m_bbox_inches_restore,\n\u001b[0;32m   2193\u001b[0m             \u001b[38;5;241m*\u001b[39m\u001b[38;5;241m*\u001b[39mkwargs)\n\u001b[0;32m   2194\u001b[0m \u001b[38;5;28;01mfinally\u001b[39;00m:\n\u001b[0;32m   2195\u001b[0m     \u001b[38;5;28;01mif\u001b[39;00m bbox_inches \u001b[38;5;129;01mand\u001b[39;00m restore_bbox:\n",
      "File \u001b[1;32mc:\\Users\\admin\\.conda\\envs\\af-finanzen\\Lib\\site-packages\\matplotlib\\backend_bases.py:2043\u001b[0m, in \u001b[0;36mFigureCanvasBase._switch_canvas_and_return_print_method.<locals>.<lambda>\u001b[1;34m(*args, **kwargs)\u001b[0m\n\u001b[0;32m   2039\u001b[0m     optional_kws \u001b[38;5;241m=\u001b[39m {  \u001b[38;5;66;03m# Passed by print_figure for other renderers.\u001b[39;00m\n\u001b[0;32m   2040\u001b[0m         \u001b[38;5;124m\"\u001b[39m\u001b[38;5;124mdpi\u001b[39m\u001b[38;5;124m\"\u001b[39m, \u001b[38;5;124m\"\u001b[39m\u001b[38;5;124mfacecolor\u001b[39m\u001b[38;5;124m\"\u001b[39m, \u001b[38;5;124m\"\u001b[39m\u001b[38;5;124medgecolor\u001b[39m\u001b[38;5;124m\"\u001b[39m, \u001b[38;5;124m\"\u001b[39m\u001b[38;5;124morientation\u001b[39m\u001b[38;5;124m\"\u001b[39m,\n\u001b[0;32m   2041\u001b[0m         \u001b[38;5;124m\"\u001b[39m\u001b[38;5;124mbbox_inches_restore\u001b[39m\u001b[38;5;124m\"\u001b[39m}\n\u001b[0;32m   2042\u001b[0m     skip \u001b[38;5;241m=\u001b[39m optional_kws \u001b[38;5;241m-\u001b[39m {\u001b[38;5;241m*\u001b[39minspect\u001b[38;5;241m.\u001b[39msignature(meth)\u001b[38;5;241m.\u001b[39mparameters}\n\u001b[1;32m-> 2043\u001b[0m     print_method \u001b[38;5;241m=\u001b[39m functools\u001b[38;5;241m.\u001b[39mwraps(meth)(\u001b[38;5;28;01mlambda\u001b[39;00m \u001b[38;5;241m*\u001b[39margs, \u001b[38;5;241m*\u001b[39m\u001b[38;5;241m*\u001b[39mkwargs: meth(\n\u001b[0;32m   2044\u001b[0m         \u001b[38;5;241m*\u001b[39margs, \u001b[38;5;241m*\u001b[39m\u001b[38;5;241m*\u001b[39m{k: v \u001b[38;5;28;01mfor\u001b[39;00m k, v \u001b[38;5;129;01min\u001b[39;00m kwargs\u001b[38;5;241m.\u001b[39mitems() \u001b[38;5;28;01mif\u001b[39;00m k \u001b[38;5;129;01mnot\u001b[39;00m \u001b[38;5;129;01min\u001b[39;00m skip}))\n\u001b[0;32m   2045\u001b[0m \u001b[38;5;28;01melse\u001b[39;00m:  \u001b[38;5;66;03m# Let third-parties do as they see fit.\u001b[39;00m\n\u001b[0;32m   2046\u001b[0m     print_method \u001b[38;5;241m=\u001b[39m meth\n",
      "File \u001b[1;32mc:\\Users\\admin\\.conda\\envs\\af-finanzen\\Lib\\site-packages\\matplotlib\\backends\\backend_agg.py:497\u001b[0m, in \u001b[0;36mFigureCanvasAgg.print_png\u001b[1;34m(self, filename_or_obj, metadata, pil_kwargs)\u001b[0m\n\u001b[0;32m    450\u001b[0m \u001b[38;5;28;01mdef\u001b[39;00m \u001b[38;5;21mprint_png\u001b[39m(\u001b[38;5;28mself\u001b[39m, filename_or_obj, \u001b[38;5;241m*\u001b[39m, metadata\u001b[38;5;241m=\u001b[39m\u001b[38;5;28;01mNone\u001b[39;00m, pil_kwargs\u001b[38;5;241m=\u001b[39m\u001b[38;5;28;01mNone\u001b[39;00m):\n\u001b[0;32m    451\u001b[0m \u001b[38;5;250m    \u001b[39m\u001b[38;5;124;03m\"\"\"\u001b[39;00m\n\u001b[0;32m    452\u001b[0m \u001b[38;5;124;03m    Write the figure to a PNG file.\u001b[39;00m\n\u001b[0;32m    453\u001b[0m \n\u001b[1;32m   (...)\u001b[0m\n\u001b[0;32m    495\u001b[0m \u001b[38;5;124;03m        *metadata*, including the default 'Software' key.\u001b[39;00m\n\u001b[0;32m    496\u001b[0m \u001b[38;5;124;03m    \"\"\"\u001b[39;00m\n\u001b[1;32m--> 497\u001b[0m     \u001b[38;5;28mself\u001b[39m\u001b[38;5;241m.\u001b[39m_print_pil(filename_or_obj, \u001b[38;5;124m\"\u001b[39m\u001b[38;5;124mpng\u001b[39m\u001b[38;5;124m\"\u001b[39m, pil_kwargs, metadata)\n",
      "File \u001b[1;32mc:\\Users\\admin\\.conda\\envs\\af-finanzen\\Lib\\site-packages\\matplotlib\\backends\\backend_agg.py:445\u001b[0m, in \u001b[0;36mFigureCanvasAgg._print_pil\u001b[1;34m(self, filename_or_obj, fmt, pil_kwargs, metadata)\u001b[0m\n\u001b[0;32m    440\u001b[0m \u001b[38;5;28;01mdef\u001b[39;00m \u001b[38;5;21m_print_pil\u001b[39m(\u001b[38;5;28mself\u001b[39m, filename_or_obj, fmt, pil_kwargs, metadata\u001b[38;5;241m=\u001b[39m\u001b[38;5;28;01mNone\u001b[39;00m):\n\u001b[0;32m    441\u001b[0m \u001b[38;5;250m    \u001b[39m\u001b[38;5;124;03m\"\"\"\u001b[39;00m\n\u001b[0;32m    442\u001b[0m \u001b[38;5;124;03m    Draw the canvas, then save it using `.image.imsave` (to which\u001b[39;00m\n\u001b[0;32m    443\u001b[0m \u001b[38;5;124;03m    *pil_kwargs* and *metadata* are forwarded).\u001b[39;00m\n\u001b[0;32m    444\u001b[0m \u001b[38;5;124;03m    \"\"\"\u001b[39;00m\n\u001b[1;32m--> 445\u001b[0m     FigureCanvasAgg\u001b[38;5;241m.\u001b[39mdraw(\u001b[38;5;28mself\u001b[39m)\n\u001b[0;32m    446\u001b[0m     mpl\u001b[38;5;241m.\u001b[39mimage\u001b[38;5;241m.\u001b[39mimsave(\n\u001b[0;32m    447\u001b[0m         filename_or_obj, \u001b[38;5;28mself\u001b[39m\u001b[38;5;241m.\u001b[39mbuffer_rgba(), \u001b[38;5;28mformat\u001b[39m\u001b[38;5;241m=\u001b[39mfmt, origin\u001b[38;5;241m=\u001b[39m\u001b[38;5;124m\"\u001b[39m\u001b[38;5;124mupper\u001b[39m\u001b[38;5;124m\"\u001b[39m,\n\u001b[0;32m    448\u001b[0m         dpi\u001b[38;5;241m=\u001b[39m\u001b[38;5;28mself\u001b[39m\u001b[38;5;241m.\u001b[39mfigure\u001b[38;5;241m.\u001b[39mdpi, metadata\u001b[38;5;241m=\u001b[39mmetadata, pil_kwargs\u001b[38;5;241m=\u001b[39mpil_kwargs)\n",
      "File \u001b[1;32mc:\\Users\\admin\\.conda\\envs\\af-finanzen\\Lib\\site-packages\\matplotlib\\backends\\backend_agg.py:383\u001b[0m, in \u001b[0;36mFigureCanvasAgg.draw\u001b[1;34m(self)\u001b[0m\n\u001b[0;32m    381\u001b[0m \u001b[38;5;28;01mdef\u001b[39;00m \u001b[38;5;21mdraw\u001b[39m(\u001b[38;5;28mself\u001b[39m):\n\u001b[0;32m    382\u001b[0m     \u001b[38;5;66;03m# docstring inherited\u001b[39;00m\n\u001b[1;32m--> 383\u001b[0m     \u001b[38;5;28mself\u001b[39m\u001b[38;5;241m.\u001b[39mrenderer \u001b[38;5;241m=\u001b[39m \u001b[38;5;28mself\u001b[39m\u001b[38;5;241m.\u001b[39mget_renderer()\n\u001b[0;32m    384\u001b[0m     \u001b[38;5;28mself\u001b[39m\u001b[38;5;241m.\u001b[39mrenderer\u001b[38;5;241m.\u001b[39mclear()\n\u001b[0;32m    385\u001b[0m     \u001b[38;5;66;03m# Acquire a lock on the shared font cache.\u001b[39;00m\n",
      "File \u001b[1;32mc:\\Users\\admin\\.conda\\envs\\af-finanzen\\Lib\\site-packages\\matplotlib\\backends\\backend_agg.py:398\u001b[0m, in \u001b[0;36mFigureCanvasAgg.get_renderer\u001b[1;34m(self)\u001b[0m\n\u001b[0;32m    396\u001b[0m reuse_renderer \u001b[38;5;241m=\u001b[39m (\u001b[38;5;28mself\u001b[39m\u001b[38;5;241m.\u001b[39m_lastKey \u001b[38;5;241m==\u001b[39m key)\n\u001b[0;32m    397\u001b[0m \u001b[38;5;28;01mif\u001b[39;00m \u001b[38;5;129;01mnot\u001b[39;00m reuse_renderer:\n\u001b[1;32m--> 398\u001b[0m     \u001b[38;5;28mself\u001b[39m\u001b[38;5;241m.\u001b[39mrenderer \u001b[38;5;241m=\u001b[39m RendererAgg(w, h, \u001b[38;5;28mself\u001b[39m\u001b[38;5;241m.\u001b[39mfigure\u001b[38;5;241m.\u001b[39mdpi)\n\u001b[0;32m    399\u001b[0m     \u001b[38;5;28mself\u001b[39m\u001b[38;5;241m.\u001b[39m_lastKey \u001b[38;5;241m=\u001b[39m key\n\u001b[0;32m    400\u001b[0m \u001b[38;5;28;01mreturn\u001b[39;00m \u001b[38;5;28mself\u001b[39m\u001b[38;5;241m.\u001b[39mrenderer\n",
      "File \u001b[1;32mc:\\Users\\admin\\.conda\\envs\\af-finanzen\\Lib\\site-packages\\matplotlib\\backends\\backend_agg.py:70\u001b[0m, in \u001b[0;36mRendererAgg.__init__\u001b[1;34m(self, width, height, dpi)\u001b[0m\n\u001b[0;32m     68\u001b[0m \u001b[38;5;28mself\u001b[39m\u001b[38;5;241m.\u001b[39mwidth \u001b[38;5;241m=\u001b[39m width\n\u001b[0;32m     69\u001b[0m \u001b[38;5;28mself\u001b[39m\u001b[38;5;241m.\u001b[39mheight \u001b[38;5;241m=\u001b[39m height\n\u001b[1;32m---> 70\u001b[0m \u001b[38;5;28mself\u001b[39m\u001b[38;5;241m.\u001b[39m_renderer \u001b[38;5;241m=\u001b[39m _RendererAgg(\u001b[38;5;28mint\u001b[39m(width), \u001b[38;5;28mint\u001b[39m(height), dpi)\n\u001b[0;32m     71\u001b[0m \u001b[38;5;28mself\u001b[39m\u001b[38;5;241m.\u001b[39m_filter_renderers \u001b[38;5;241m=\u001b[39m []\n\u001b[0;32m     73\u001b[0m \u001b[38;5;28mself\u001b[39m\u001b[38;5;241m.\u001b[39m_update_methods()\n",
      "\u001b[1;31mValueError\u001b[0m: Image size of 684838x590486 pixels is too large. It must be less than 2^16 in each direction."
     ]
    },
    {
     "data": {
      "text/plain": [
       "<Figure size 640x480 with 1 Axes>"
      ]
     },
     "metadata": {},
     "output_type": "display_data"
    }
   ],
   "source": [
    "sankey = Sankey()\n",
    "sankey.add(flows=artur_values\n",
    "           , orientations=artur_orientations\n",
    "           , labels=artur_labels\n",
    "           #, rotation=-90\n",
    "           , trunklength=1500\n",
    "           #, pathlengths=[0, 200, 50, 0]\n",
    "           #, patchlabel='artur'\n",
    "           )\n",
    "sankey.add(flows=out_wlochy_values\n",
    "           , orientations=[0, 1, 1, 1, 1, 1, 1, 1, 0]\n",
    "           , labels=out_wlochy_labels\n",
    "           # rotation=-90\n",
    "           # , trunklength=1500\n",
    "           # pathlengths=[0, 200, 50, 0],\n",
    "           #patchlabel='Italia'\n",
    "           , prior=0\n",
    "           , connect=(4, 0)\n",
    "           )\n",
    "sankey.finish()\n",
    "\n"
   ]
  },
  {
   "cell_type": "code",
   "execution_count": 55,
   "metadata": {},
   "outputs": [
    {
     "data": {
      "text/plain": [
       "{'Artur Sycylia': 1805,\n",
       " 'Kasia Włochy': 250,\n",
       " 'Włochy': -500,\n",
       " 'Maja Schule': -1555}"
      ]
     },
     "execution_count": 55,
     "metadata": {},
     "output_type": "execute_result"
    }
   ],
   "source": [
    "totals = {\n",
    "    'Artur Sycylia': 2500,\n",
    "    'Kasia Włochy done': int(out_wlochy / 2),\n",
    "    'Włochy': -out_wlochy,\n",
    "    'Maja Schule': -out_maja\n",
    "}\n",
    "\n",
    "percents"
   ]
  },
  {
   "cell_type": "code",
   "execution_count": 65,
   "metadata": {},
   "outputs": [
    {
     "data": {
      "text/plain": [
       "[namespace(patch=<matplotlib.patches.PathPatch at 0x2606379b500>,\n",
       "           flows=array([ 1805,   250,  -500, -1555]),\n",
       "           angles=[0, 3, 1, 0],\n",
       "           tips=array([[-242.71258286, -125.        ],\n",
       "                       [-875.        , 1122.6125461 ],\n",
       "                       [1000.        , 1287.30008078],\n",
       "                       [1902.42513623, -250.        ]]),\n",
       "           text=Text(0, 0, ''),\n",
       "           texts=[Text(-242.86258286250487, -125.0, 'Artur Sycylia\\n1805'),\n",
       "                  Text(-875.0, 1122.7625461028401, 'Kasia Włochy\\n250'),\n",
       "                  Text(1000.0, 1287.4500807832555, 'Włochy\\n500'),\n",
       "                  Text(1902.5751362292706, -250.0, 'Maja Schule\\n1555')])]"
      ]
     },
     "execution_count": 65,
     "metadata": {},
     "output_type": "execute_result"
    },
    {
     "data": {
      "image/png": "[encoded data removed]",
      "text/plain": [
       "<Figure size 640x480 with 1 Axes>"
      ]
     },
     "metadata": {},
     "output_type": "display_data"
    }
   ],
   "source": [
    "sankey = Sankey()\n",
    "sankey.add(\n",
    "        #flows=[1805, -1555, 250, -500],\n",
    "        #flows=[0.8, -0.5, 0.2, -0.5],\n",
    "        flows=list(percents.values()),\n",
    "           orientations=[0, 1, 1, 0],\n",
    "           #labels=['Artur oszczędności Sycylia', 'Maja szkoła', 'Kasia Włochy', 'Włochy'],\n",
    "           labels=list(percents.keys()),\n",
    "           # rotation=-90\n",
    "            trunklength=1500,\n",
    "            #pathlengths=[0.1, 0.2, 0.5, 1.0]\n",
    "           pathlengths=[0, 200, 50, 0],\n",
    "           patchlabel=''\n",
    "           )\n",
    "sankey.finish()\n"
   ]
  },
  {
   "cell_type": "code",
   "execution_count": null,
   "metadata": {},
   "outputs": [],
   "source": [
    "data = "
   ]
  }
 ],
 "metadata": {
  "kernelspec": {
   "display_name": "af-finanzen",
   "language": "python",
   "name": "python3"
  },
  "language_info": {
   "codemirror_mode": {
    "name": "ipython",
    "version": 3
   },
   "file_extension": ".py",
   "mimetype": "text/x-python",
   "name": "python",
   "nbconvert_exporter": "python",
   "pygments_lexer": "ipython3",
   "version": "3.12.0"
  }
 },
 "nbformat": 4,
 "nbformat_minor": 2
}
